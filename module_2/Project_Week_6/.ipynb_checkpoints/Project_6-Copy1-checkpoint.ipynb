{
 "cells": [
  {
   "cell_type": "code",
   "execution_count": 1,
   "metadata": {},
   "outputs": [],
   "source": [
    "import config\n",
    "import spotipy\n",
    "from spotipy.oauth2 import SpotifyClientCredentials\n",
    "import pprint\n",
    "import pandas as pd"
   ]
  },
  {
   "cell_type": "code",
   "execution_count": 2,
   "metadata": {},
   "outputs": [],
   "source": [
    "sp = spotipy.Spotify(auth_manager=SpotifyClientCredentials(client_id= config.c_id,\n",
    "                                                           client_secret= config.c_se))"
   ]
  },
  {
   "cell_type": "code",
   "execution_count": 3,
   "metadata": {},
   "outputs": [],
   "source": [
    "#FIRST PLAYLIST\n",
    "\n",
    "playlist = sp.user_playlist_tracks(\"spotify\", \"1LcuQZV759hx8gHNptZ5yI\",market=\"GB\") "
   ]
  },
  {
   "cell_type": "code",
   "execution_count": 4,
   "metadata": {},
   "outputs": [],
   "source": [
    "def get_playlist_tracks(username, playlist_id):\n",
    "    results = sp.user_playlist_tracks(username,playlist_id,market=\"GB\")\n",
    "    tracks = results['items']\n",
    "    while results['next']:\n",
    "        results = sp.next(results)\n",
    "        tracks.extend(results['items'])\n",
    "    return tracks"
   ]
  },
  {
   "cell_type": "code",
   "execution_count": 5,
   "metadata": {},
   "outputs": [],
   "source": [
    "tracks=get_playlist_tracks(\"spotify\", \"1LcuQZV759hx8gHNptZ5yI\") "
   ]
  },
  {
   "cell_type": "code",
   "execution_count": 6,
   "metadata": {},
   "outputs": [],
   "source": [
    "list_of_audio_features=[]\n",
    "for item in range(0,119):\n",
    "    #print (tracks[item][\"track\"][\"id\"])\n",
    "    list_of_audio_features.append(sp.audio_features(tracks[item][\"track\"][\"id\"])[0])"
   ]
  },
  {
   "cell_type": "code",
   "execution_count": 7,
   "metadata": {},
   "outputs": [
    {
     "data": {
      "text/html": [
       "<div>\n",
       "<style scoped>\n",
       "    .dataframe tbody tr th:only-of-type {\n",
       "        vertical-align: middle;\n",
       "    }\n",
       "\n",
       "    .dataframe tbody tr th {\n",
       "        vertical-align: top;\n",
       "    }\n",
       "\n",
       "    .dataframe thead th {\n",
       "        text-align: right;\n",
       "    }\n",
       "</style>\n",
       "<table border=\"1\" class=\"dataframe\">\n",
       "  <thead>\n",
       "    <tr style=\"text-align: right;\">\n",
       "      <th></th>\n",
       "      <th>danceability</th>\n",
       "      <th>energy</th>\n",
       "      <th>loudness</th>\n",
       "      <th>speechiness</th>\n",
       "      <th>acousticness</th>\n",
       "      <th>instrumentalness</th>\n",
       "      <th>liveness</th>\n",
       "      <th>valence</th>\n",
       "      <th>tempo</th>\n",
       "      <th>id</th>\n",
       "      <th>duration_ms</th>\n",
       "    </tr>\n",
       "  </thead>\n",
       "  <tbody>\n",
       "    <tr>\n",
       "      <th>0</th>\n",
       "      <td>0.895</td>\n",
       "      <td>0.404</td>\n",
       "      <td>-10.241</td>\n",
       "      <td>0.1080</td>\n",
       "      <td>0.218000</td>\n",
       "      <td>0.3160</td>\n",
       "      <td>0.0974</td>\n",
       "      <td>0.176</td>\n",
       "      <td>112.993</td>\n",
       "      <td>3q6ql0KuUMPBolEfd8LhbE</td>\n",
       "      <td>284602</td>\n",
       "    </tr>\n",
       "    <tr>\n",
       "      <th>1</th>\n",
       "      <td>0.705</td>\n",
       "      <td>0.549</td>\n",
       "      <td>-8.171</td>\n",
       "      <td>0.1840</td>\n",
       "      <td>0.477000</td>\n",
       "      <td>0.4790</td>\n",
       "      <td>0.0888</td>\n",
       "      <td>0.274</td>\n",
       "      <td>84.014</td>\n",
       "      <td>6LRY3cFPXnM9WXKXrKPKJr</td>\n",
       "      <td>174286</td>\n",
       "    </tr>\n",
       "    <tr>\n",
       "      <th>2</th>\n",
       "      <td>0.806</td>\n",
       "      <td>0.545</td>\n",
       "      <td>-10.199</td>\n",
       "      <td>0.0569</td>\n",
       "      <td>0.000086</td>\n",
       "      <td>0.8650</td>\n",
       "      <td>0.1030</td>\n",
       "      <td>0.672</td>\n",
       "      <td>124.998</td>\n",
       "      <td>72heTYSB1VaSn8LBR7JKS6</td>\n",
       "      <td>323200</td>\n",
       "    </tr>\n",
       "    <tr>\n",
       "      <th>3</th>\n",
       "      <td>0.765</td>\n",
       "      <td>0.776</td>\n",
       "      <td>-7.991</td>\n",
       "      <td>0.0326</td>\n",
       "      <td>0.033500</td>\n",
       "      <td>0.6170</td>\n",
       "      <td>0.1340</td>\n",
       "      <td>0.708</td>\n",
       "      <td>104.015</td>\n",
       "      <td>5nLAheg0AIva7wue6gUiNN</td>\n",
       "      <td>234519</td>\n",
       "    </tr>\n",
       "    <tr>\n",
       "      <th>4</th>\n",
       "      <td>0.927</td>\n",
       "      <td>0.525</td>\n",
       "      <td>-8.256</td>\n",
       "      <td>0.0667</td>\n",
       "      <td>0.274000</td>\n",
       "      <td>0.2380</td>\n",
       "      <td>0.0672</td>\n",
       "      <td>0.778</td>\n",
       "      <td>118.023</td>\n",
       "      <td>1vMGIZbIkpaLSagdF2ygcV</td>\n",
       "      <td>198305</td>\n",
       "    </tr>\n",
       "    <tr>\n",
       "      <th>...</th>\n",
       "      <td>...</td>\n",
       "      <td>...</td>\n",
       "      <td>...</td>\n",
       "      <td>...</td>\n",
       "      <td>...</td>\n",
       "      <td>...</td>\n",
       "      <td>...</td>\n",
       "      <td>...</td>\n",
       "      <td>...</td>\n",
       "      <td>...</td>\n",
       "      <td>...</td>\n",
       "    </tr>\n",
       "    <tr>\n",
       "      <th>114</th>\n",
       "      <td>0.888</td>\n",
       "      <td>0.632</td>\n",
       "      <td>-3.872</td>\n",
       "      <td>0.2190</td>\n",
       "      <td>0.190000</td>\n",
       "      <td>0.0000</td>\n",
       "      <td>0.1010</td>\n",
       "      <td>0.662</td>\n",
       "      <td>91.979</td>\n",
       "      <td>2NBQmPrOEEjA8VbeWOQGxO</td>\n",
       "      <td>266067</td>\n",
       "    </tr>\n",
       "    <tr>\n",
       "      <th>115</th>\n",
       "      <td>0.872</td>\n",
       "      <td>0.610</td>\n",
       "      <td>-7.965</td>\n",
       "      <td>0.0421</td>\n",
       "      <td>0.084700</td>\n",
       "      <td>0.3220</td>\n",
       "      <td>0.6430</td>\n",
       "      <td>0.559</td>\n",
       "      <td>114.995</td>\n",
       "      <td>4Vldw0eUgCbhgyxAWY6JMk</td>\n",
       "      <td>311493</td>\n",
       "    </tr>\n",
       "    <tr>\n",
       "      <th>116</th>\n",
       "      <td>0.823</td>\n",
       "      <td>0.648</td>\n",
       "      <td>-10.107</td>\n",
       "      <td>0.0450</td>\n",
       "      <td>0.040300</td>\n",
       "      <td>0.7670</td>\n",
       "      <td>0.1740</td>\n",
       "      <td>0.962</td>\n",
       "      <td>124.015</td>\n",
       "      <td>7DSe9aWkpnbDQTTRikkpYp</td>\n",
       "      <td>386893</td>\n",
       "    </tr>\n",
       "    <tr>\n",
       "      <th>117</th>\n",
       "      <td>0.910</td>\n",
       "      <td>0.757</td>\n",
       "      <td>-6.975</td>\n",
       "      <td>0.1010</td>\n",
       "      <td>0.002750</td>\n",
       "      <td>0.0116</td>\n",
       "      <td>0.0636</td>\n",
       "      <td>0.596</td>\n",
       "      <td>117.992</td>\n",
       "      <td>2akFLoxJNjGxwtUX0XgjSn</td>\n",
       "      <td>360222</td>\n",
       "    </tr>\n",
       "    <tr>\n",
       "      <th>118</th>\n",
       "      <td>0.859</td>\n",
       "      <td>0.642</td>\n",
       "      <td>-9.887</td>\n",
       "      <td>0.0509</td>\n",
       "      <td>0.000595</td>\n",
       "      <td>0.1170</td>\n",
       "      <td>0.0824</td>\n",
       "      <td>0.860</td>\n",
       "      <td>122.984</td>\n",
       "      <td>3JVDYGvMsdMFhEckLwiCp4</td>\n",
       "      <td>470134</td>\n",
       "    </tr>\n",
       "  </tbody>\n",
       "</table>\n",
       "<p>119 rows × 11 columns</p>\n",
       "</div>"
      ],
      "text/plain": [
       "     danceability  energy  loudness  speechiness  acousticness  \\\n",
       "0           0.895   0.404   -10.241       0.1080      0.218000   \n",
       "1           0.705   0.549    -8.171       0.1840      0.477000   \n",
       "2           0.806   0.545   -10.199       0.0569      0.000086   \n",
       "3           0.765   0.776    -7.991       0.0326      0.033500   \n",
       "4           0.927   0.525    -8.256       0.0667      0.274000   \n",
       "..            ...     ...       ...          ...           ...   \n",
       "114         0.888   0.632    -3.872       0.2190      0.190000   \n",
       "115         0.872   0.610    -7.965       0.0421      0.084700   \n",
       "116         0.823   0.648   -10.107       0.0450      0.040300   \n",
       "117         0.910   0.757    -6.975       0.1010      0.002750   \n",
       "118         0.859   0.642    -9.887       0.0509      0.000595   \n",
       "\n",
       "     instrumentalness  liveness  valence    tempo                      id  \\\n",
       "0              0.3160    0.0974    0.176  112.993  3q6ql0KuUMPBolEfd8LhbE   \n",
       "1              0.4790    0.0888    0.274   84.014  6LRY3cFPXnM9WXKXrKPKJr   \n",
       "2              0.8650    0.1030    0.672  124.998  72heTYSB1VaSn8LBR7JKS6   \n",
       "3              0.6170    0.1340    0.708  104.015  5nLAheg0AIva7wue6gUiNN   \n",
       "4              0.2380    0.0672    0.778  118.023  1vMGIZbIkpaLSagdF2ygcV   \n",
       "..                ...       ...      ...      ...                     ...   \n",
       "114            0.0000    0.1010    0.662   91.979  2NBQmPrOEEjA8VbeWOQGxO   \n",
       "115            0.3220    0.6430    0.559  114.995  4Vldw0eUgCbhgyxAWY6JMk   \n",
       "116            0.7670    0.1740    0.962  124.015  7DSe9aWkpnbDQTTRikkpYp   \n",
       "117            0.0116    0.0636    0.596  117.992  2akFLoxJNjGxwtUX0XgjSn   \n",
       "118            0.1170    0.0824    0.860  122.984  3JVDYGvMsdMFhEckLwiCp4   \n",
       "\n",
       "     duration_ms  \n",
       "0         284602  \n",
       "1         174286  \n",
       "2         323200  \n",
       "3         234519  \n",
       "4         198305  \n",
       "..           ...  \n",
       "114       266067  \n",
       "115       311493  \n",
       "116       386893  \n",
       "117       360222  \n",
       "118       470134  \n",
       "\n",
       "[119 rows x 11 columns]"
      ]
     },
     "execution_count": 7,
     "metadata": {},
     "output_type": "execute_result"
    }
   ],
   "source": [
    "df=pd.DataFrame(list_of_audio_features)    \n",
    "df=df[[\"danceability\",\"energy\",\"loudness\",\"speechiness\",\"acousticness\",\n",
    "    \"instrumentalness\",\"liveness\",\"valence\",\"tempo\",\"id\",\"duration_ms\"]]\n",
    "\n",
    "df"
   ]
  },
  {
   "cell_type": "code",
   "execution_count": 8,
   "metadata": {},
   "outputs": [],
   "source": [
    "#SECOND PLAYLIST"
   ]
  },
  {
   "cell_type": "code",
   "execution_count": 9,
   "metadata": {},
   "outputs": [],
   "source": [
    "playlist2 = sp.user_playlist_tracks(\"spotify\", \"1za8ZVd7nSGbfBLJYrYkxr\",market=\"GB\") "
   ]
  },
  {
   "cell_type": "code",
   "execution_count": 10,
   "metadata": {},
   "outputs": [],
   "source": [
    "tracks=get_playlist_tracks(\"spotify\", \"1za8ZVd7nSGbfBLJYrYkxr\") "
   ]
  },
  {
   "cell_type": "code",
   "execution_count": 11,
   "metadata": {},
   "outputs": [
    {
     "ename": "TypeError",
     "evalue": "'NoneType' object is not subscriptable",
     "output_type": "error",
     "traceback": [
      "\u001b[0;31m---------------------------------------------------------------------------\u001b[0m",
      "\u001b[0;31mTypeError\u001b[0m                                 Traceback (most recent call last)",
      "\u001b[0;32m/var/folders/_s/5ccjvt852hv4ddn7j5mrvy1m0000gn/T/ipykernel_26065/552823936.py\u001b[0m in \u001b[0;36m<module>\u001b[0;34m\u001b[0m\n\u001b[1;32m      2\u001b[0m \u001b[0;32mfor\u001b[0m \u001b[0mitem\u001b[0m \u001b[0;32min\u001b[0m \u001b[0mrange\u001b[0m\u001b[0;34m(\u001b[0m\u001b[0;36m0\u001b[0m\u001b[0;34m,\u001b[0m\u001b[0;36m300\u001b[0m\u001b[0;34m)\u001b[0m\u001b[0;34m:\u001b[0m\u001b[0;34m\u001b[0m\u001b[0;34m\u001b[0m\u001b[0m\n\u001b[1;32m      3\u001b[0m     \u001b[0;31m#print (tracks[item][\"track\"][\"id\"])\u001b[0m\u001b[0;34m\u001b[0m\u001b[0;34m\u001b[0m\u001b[0m\n\u001b[0;32m----> 4\u001b[0;31m     \u001b[0mlist_of_audio_features\u001b[0m\u001b[0;34m.\u001b[0m\u001b[0mappend\u001b[0m\u001b[0;34m(\u001b[0m\u001b[0msp\u001b[0m\u001b[0;34m.\u001b[0m\u001b[0maudio_features\u001b[0m\u001b[0;34m(\u001b[0m\u001b[0mtracks\u001b[0m\u001b[0;34m[\u001b[0m\u001b[0mitem\u001b[0m\u001b[0;34m]\u001b[0m\u001b[0;34m[\u001b[0m\u001b[0;34m\"track\"\u001b[0m\u001b[0;34m]\u001b[0m\u001b[0;34m[\u001b[0m\u001b[0;34m\"id\"\u001b[0m\u001b[0;34m]\u001b[0m\u001b[0;34m)\u001b[0m\u001b[0;34m[\u001b[0m\u001b[0;36m0\u001b[0m\u001b[0;34m]\u001b[0m\u001b[0;34m)\u001b[0m\u001b[0;34m\u001b[0m\u001b[0;34m\u001b[0m\u001b[0m\n\u001b[0m",
      "\u001b[0;31mTypeError\u001b[0m: 'NoneType' object is not subscriptable"
     ]
    }
   ],
   "source": [
    "list_of_audio_features=[]\n",
    "for item in range(0,300):\n",
    "    #print (tracks[item][\"track\"][\"id\"])\n",
    "    list_of_audio_features.append(sp.audio_features(tracks[item][\"track\"][\"id\"])[0])"
   ]
  },
  {
   "cell_type": "code",
   "execution_count": null,
   "metadata": {},
   "outputs": [],
   "source": [
    "df2=pd.DataFrame(list_of_audio_features)    \n",
    "df2=df2[[\"danceability\",\"energy\",\"loudness\",\"speechiness\",\"acousticness\",\n",
    "    \"instrumentalness\",\"liveness\",\"valence\",\"tempo\",\"id\",\"duration_ms\"]]\n",
    "\n",
    "df2"
   ]
  },
  {
   "cell_type": "code",
   "execution_count": null,
   "metadata": {},
   "outputs": [],
   "source": [
    "#THIRD PLAYLIST"
   ]
  },
  {
   "cell_type": "code",
   "execution_count": null,
   "metadata": {},
   "outputs": [],
   "source": [
    "playlist3 = sp.user_playlist_tracks(\"spotify\", \"1dhdpHBl7D3iKkVwmEPr73\",market=\"GB\") "
   ]
  },
  {
   "cell_type": "code",
   "execution_count": null,
   "metadata": {},
   "outputs": [],
   "source": [
    "tracks=get_playlist_tracks(\"spotify\", \"1dhdpHBl7D3iKkVwmEPr73\") \n"
   ]
  },
  {
   "cell_type": "code",
   "execution_count": null,
   "metadata": {},
   "outputs": [],
   "source": [
    "list_of_audio_features=[]\n",
    "for item in range(0,500):\n",
    "    #print (tracks[item][\"track\"][\"id\"])\n",
    "    list_of_audio_features.append(sp.audio_features(tracks[item][\"track\"][\"id\"])[0])"
   ]
  },
  {
   "cell_type": "code",
   "execution_count": null,
   "metadata": {},
   "outputs": [],
   "source": [
    "df3=pd.DataFrame(list_of_audio_features)    \n",
    "df3=df3[[\"danceability\",\"energy\",\"loudness\",\"speechiness\",\"acousticness\",\n",
    "    \"instrumentalness\",\"liveness\",\"valence\",\"tempo\",\"id\",\"duration_ms\"]]\n",
    "\n",
    "df3"
   ]
  },
  {
   "cell_type": "code",
   "execution_count": null,
   "metadata": {},
   "outputs": [],
   "source": [
    "#FOURTH PLAYLIST"
   ]
  },
  {
   "cell_type": "code",
   "execution_count": null,
   "metadata": {},
   "outputs": [],
   "source": [
    "playlist4 = sp.user_playlist_tracks(\"spotify\", \"24cVLClMLrf7jCT93LJ1CE\",market=\"GB\") "
   ]
  },
  {
   "cell_type": "code",
   "execution_count": null,
   "metadata": {},
   "outputs": [],
   "source": [
    "tracks=get_playlist_tracks(\"spotify\", \"24cVLClMLrf7jCT93LJ1CE\") \n"
   ]
  },
  {
   "cell_type": "code",
   "execution_count": null,
   "metadata": {},
   "outputs": [],
   "source": [
    "list_of_audio_features=[]\n",
    "for item in range(0,400):\n",
    "    #print (tracks[item][\"track\"][\"id\"])\n",
    "    list_of_audio_features.append(sp.audio_features(tracks[item][\"track\"][\"id\"])[0])"
   ]
  },
  {
   "cell_type": "code",
   "execution_count": null,
   "metadata": {},
   "outputs": [],
   "source": [
    "df4=pd.DataFrame(list_of_audio_features)    \n",
    "df4=df4[[\"danceability\",\"energy\",\"loudness\",\"speechiness\",\"acousticness\",\n",
    "    \"instrumentalness\",\"liveness\",\"valence\",\"tempo\",\"id\",\"duration_ms\"]]\n",
    "\n",
    "df4"
   ]
  },
  {
   "cell_type": "code",
   "execution_count": null,
   "metadata": {},
   "outputs": [],
   "source": [
    "final_dataset = pd.concat([df, df2, df3, df4])"
   ]
  },
  {
   "cell_type": "code",
   "execution_count": null,
   "metadata": {},
   "outputs": [],
   "source": [
    "final_dataset"
   ]
  },
  {
   "cell_type": "code",
   "execution_count": null,
   "metadata": {},
   "outputs": [],
   "source": [
    "final_dataset.to_csv(\"project6.csv\", mode=\"a\", index=True)"
   ]
  },
  {
   "cell_type": "code",
   "execution_count": null,
   "metadata": {},
   "outputs": [],
   "source": []
  }
 ],
 "metadata": {
  "kernelspec": {
   "display_name": "Python 3 (ipykernel)",
   "language": "python",
   "name": "python3"
  },
  "language_info": {
   "codemirror_mode": {
    "name": "ipython",
    "version": 3
   },
   "file_extension": ".py",
   "mimetype": "text/x-python",
   "name": "python",
   "nbconvert_exporter": "python",
   "pygments_lexer": "ipython3",
   "version": "3.9.13"
  }
 },
 "nbformat": 4,
 "nbformat_minor": 2
}
