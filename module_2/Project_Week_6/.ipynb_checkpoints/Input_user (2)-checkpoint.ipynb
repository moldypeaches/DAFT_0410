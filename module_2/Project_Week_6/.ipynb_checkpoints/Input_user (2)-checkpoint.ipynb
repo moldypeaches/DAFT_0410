{
 "cells": [
  {
   "cell_type": "code",
   "execution_count": 154,
   "id": "7709def9",
   "metadata": {},
   "outputs": [],
   "source": [
    "#importing libraries"
   ]
  },
  {
   "cell_type": "code",
   "execution_count": 155,
   "id": "54c36abd",
   "metadata": {},
   "outputs": [],
   "source": [
    "import pickle \n",
    "import config   \n",
    "import spotipy\n",
    "import pandas as pd\n",
    "from spotipy.oauth2 import SpotifyClientCredentials\n",
    "from IPython.display import IFrame\n",
    "\n",
    "sp = spotipy.Spotify(auth_manager=SpotifyClientCredentials(client_id= config.c_id,\n",
    "                                                      client_secret= config.c_se))"
   ]
  },
  {
   "cell_type": "code",
   "execution_count": 156,
   "id": "406095d9",
   "metadata": {},
   "outputs": [],
   "source": [
    "spotipy = pd.read_csv('spotipy.csv', sep=',')"
   ]
  },
  {
   "cell_type": "code",
   "execution_count": 157,
   "id": "b71772d7",
   "metadata": {},
   "outputs": [],
   "source": [
    "#definitions"
   ]
  },
  {
   "cell_type": "code",
   "execution_count": 158,
   "id": "b67870ae",
   "metadata": {},
   "outputs": [],
   "source": [
    "#opening the scaler/model\n",
    "\n",
    "def load(filename = \"filename.pickle\"): \n",
    "\n",
    "    try: \n",
    "        with open(filename, \"rb\") as f: \n",
    "            return pickle.load(f) \n",
    "\n",
    "    except FileNotFoundError: \n",
    "        print(\"File not found!\")\n",
    "\n",
    "#transforming features\n",
    "\n",
    "def transforming_features(track_id):\n",
    "    song = sp.audio_features(track_id)\n",
    "    user=pd.DataFrame(song)\n",
    "    user=user[['danceability','energy','loudness','speechiness','acousticness','instrumentalness','liveness','valence','tempo', 'id', 'duration_ms']]\n",
    "    df_for_scalling = user[['danceability','energy','loudness','speechiness','acousticness','instrumentalness','liveness','valence','tempo','duration_ms']]\n",
    "    kmeans_38 = load(\"model.pickle\") #loading the model\n",
    "    scaler = load(\"scaler.pickle\") #loading the scaler\n",
    "    scaled_new_song = scaler.transform(df_for_scalling) #transforming using the scaler\n",
    "    cluster=kmeans_38.predict(scaled_new_song) #predicting using the model\n",
    "    return cluster #returns cluster predicted"
   ]
  },
  {
   "cell_type": "code",
   "execution_count": 159,
   "id": "e0e3c12a",
   "metadata": {},
   "outputs": [],
   "source": [
    "#getting the song from the user"
   ]
  },
  {
   "cell_type": "code",
   "execution_count": 160,
   "id": "12e22b82",
   "metadata": {},
   "outputs": [],
   "source": [
    "results = sp.search(q=\"Bad Romance\",limit=3,market=\"GB\")"
   ]
  },
  {
   "cell_type": "code",
   "execution_count": 161,
   "id": "dac87acc",
   "metadata": {},
   "outputs": [
    {
     "data": {
      "text/html": [
       "\n",
       "        <iframe\n",
       "            width=\"320\"\n",
       "            height=\"80\"\n",
       "            src=\"https://open.spotify.com/embed/track/0SiywuOBRcynK0uKGWdCnn?utm_source=generator?frameborder=0&allowtransparency=true&allow=encrypted-media\"\n",
       "            frameborder=\"0\"\n",
       "            allowfullscreen\n",
       "            \n",
       "        ></iframe>\n",
       "        "
      ],
      "text/plain": [
       "<IPython.lib.display.IFrame at 0x7fa5294a7c40>"
      ]
     },
     "execution_count": 161,
     "metadata": {},
     "output_type": "execute_result"
    }
   ],
   "source": [
    "#embedded player of the song choosen by the user\n",
    "\n",
    "track_id= results['tracks']['items'][0]['id']\n",
    "IFrame(src=\"https://open.spotify.com/embed/track/\"+track_id+\"?utm_source=generator\",\n",
    "       width=\"320\",\n",
    "       height=\"80\",\n",
    "       frameborder=\"0\",\n",
    "       allowtransparency=\"true\",\n",
    "       allow=\"encrypted-media\",\n",
    "      )"
   ]
  },
  {
   "cell_type": "code",
   "execution_count": 162,
   "id": "e8169a5f",
   "metadata": {},
   "outputs": [],
   "source": [
    "#recommand 3 songs based on the song choosen by the user\n",
    "\n",
    "cluster_predicted = transforming_features(track_id)\n",
    "filter = spotipy[spotipy['cluster']==int(cluster_predicted)]['id']\n",
    "\n",
    "songs_predicted = []\n",
    "\n",
    "songs_predicted = list(filter)\n",
    "songs_predicted[0:3]"
   ]
  },
  {
   "cell_type": "code",
   "execution_count": 173,
   "id": "3e85d42b",
   "metadata": {},
   "outputs": [
    {
     "data": {
      "text/html": [
       "\n",
       "        <iframe\n",
       "            width=\"320\"\n",
       "            height=\"80\"\n",
       "            src=\"https://open.spotify.com/embed/track/7wqF3BU0ykeKch6BcNqGiT?utm_source=generator?frameborder=0&allowtransparency=true&allow=encrypted-media\"\n",
       "            frameborder=\"0\"\n",
       "            allowfullscreen\n",
       "            \n",
       "        ></iframe>\n",
       "        "
      ],
      "text/plain": [
       "<IPython.lib.display.IFrame at 0x7fa5294a7430>"
      ]
     },
     "execution_count": 173,
     "metadata": {},
     "output_type": "execute_result"
    }
   ],
   "source": [
    "#recommandation 1\n",
    "\n",
    "IFrame(src=\"https://open.spotify.com/embed/track/\"+songs_predicted[0]+\"?utm_source=generator\",\n",
    "       width=\"320\",\n",
    "       height=\"80\",\n",
    "       frameborder=\"0\",\n",
    "       allowtransparency=\"true\",\n",
    "       allow=\"encrypted-media\",\n",
    "      )"
   ]
  },
  {
   "cell_type": "code",
   "execution_count": 174,
   "id": "af66fd44",
   "metadata": {},
   "outputs": [
    {
     "data": {
      "text/html": [
       "\n",
       "        <iframe\n",
       "            width=\"320\"\n",
       "            height=\"80\"\n",
       "            src=\"https://open.spotify.com/embed/track/1wPNVQqGT9LG39nzeyzIvF?utm_source=generator?frameborder=0&allowtransparency=true&allow=encrypted-media\"\n",
       "            frameborder=\"0\"\n",
       "            allowfullscreen\n",
       "            \n",
       "        ></iframe>\n",
       "        "
      ],
      "text/plain": [
       "<IPython.lib.display.IFrame at 0x7fa5287c77c0>"
      ]
     },
     "execution_count": 174,
     "metadata": {},
     "output_type": "execute_result"
    }
   ],
   "source": [
    "#recommandation 2\n",
    "\n",
    "IFrame(src=\"https://open.spotify.com/embed/track/\"+songs_predicted[1]+\"?utm_source=generator\",\n",
    "       width=\"320\",\n",
    "       height=\"80\",\n",
    "       frameborder=\"0\",\n",
    "       allowtransparency=\"true\",\n",
    "       allow=\"encrypted-media\",\n",
    "      )"
   ]
  },
  {
   "cell_type": "code",
   "execution_count": 175,
   "id": "82aeb4ff",
   "metadata": {},
   "outputs": [
    {
     "data": {
      "text/html": [
       "\n",
       "        <iframe\n",
       "            width=\"320\"\n",
       "            height=\"80\"\n",
       "            src=\"https://open.spotify.com/embed/track/5ALMF4Z6a9VUl66LHVHjBl?utm_source=generator?frameborder=0&allowtransparency=true&allow=encrypted-media\"\n",
       "            frameborder=\"0\"\n",
       "            allowfullscreen\n",
       "            \n",
       "        ></iframe>\n",
       "        "
      ],
      "text/plain": [
       "<IPython.lib.display.IFrame at 0x7fa5294a7fd0>"
      ]
     },
     "execution_count": 175,
     "metadata": {},
     "output_type": "execute_result"
    }
   ],
   "source": [
    "#recommandation 3\n",
    "\n",
    "IFrame(src=\"https://open.spotify.com/embed/track/\"+songs_predicted[2]+\"?utm_source=generator\",\n",
    "       width=\"320\",\n",
    "       height=\"80\",\n",
    "       frameborder=\"0\",\n",
    "       allowtransparency=\"true\",\n",
    "       allow=\"encrypted-media\",\n",
    "      )"
   ]
  }
 ],
 "metadata": {
  "kernelspec": {
   "display_name": "Python 3 (ipykernel)",
   "language": "python",
   "name": "python3"
  },
  "language_info": {
   "codemirror_mode": {
    "name": "ipython",
    "version": 3
   },
   "file_extension": ".py",
   "mimetype": "text/x-python",
   "name": "python",
   "nbconvert_exporter": "python",
   "pygments_lexer": "ipython3",
   "version": "3.9.13"
  }
 },
 "nbformat": 4,
 "nbformat_minor": 5
}
