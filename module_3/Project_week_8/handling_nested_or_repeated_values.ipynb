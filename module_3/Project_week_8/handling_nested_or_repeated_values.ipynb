{
 "cells": [
  {
   "cell_type": "code",
   "execution_count": 1,
   "id": "d34ad3f0-4b95-4aee-a1eb-86f444686daf",
   "metadata": {},
   "outputs": [],
   "source": [
    "import pandas as pd"
   ]
  },
  {
   "cell_type": "code",
   "execution_count": 2,
   "id": "077c24cc-44bb-4200-9d9a-6599dcd930d6",
   "metadata": {},
   "outputs": [
    {
     "data": {
      "text/html": [
       "<div>\n",
       "<style scoped>\n",
       "    .dataframe tbody tr th:only-of-type {\n",
       "        vertical-align: middle;\n",
       "    }\n",
       "\n",
       "    .dataframe tbody tr th {\n",
       "        vertical-align: top;\n",
       "    }\n",
       "\n",
       "    .dataframe thead th {\n",
       "        text-align: right;\n",
       "    }\n",
       "</style>\n",
       "<table border=\"1\" class=\"dataframe\">\n",
       "  <thead>\n",
       "    <tr style=\"text-align: right;\">\n",
       "      <th></th>\n",
       "      <th>dessert</th>\n",
       "      <th>ingredient</th>\n",
       "    </tr>\n",
       "  </thead>\n",
       "  <tbody>\n",
       "    <tr>\n",
       "      <th>0</th>\n",
       "      <td>Dame Blanche</td>\n",
       "      <td>[Vanilla Ice Cream, Chocolate Sauce, Chantilly...</td>\n",
       "    </tr>\n",
       "    <tr>\n",
       "      <th>1</th>\n",
       "      <td>Vanilla Ice Cream</td>\n",
       "      <td>Vanilla Ice Cream</td>\n",
       "    </tr>\n",
       "    <tr>\n",
       "      <th>2</th>\n",
       "      <td>Chocolat Liégeois</td>\n",
       "      <td>[Chocolate Ice Cream, Chocolate Sauce, Chantil...</td>\n",
       "    </tr>\n",
       "  </tbody>\n",
       "</table>\n",
       "</div>"
      ],
      "text/plain": [
       "             dessert                                         ingredient\n",
       "0       Dame Blanche  [Vanilla Ice Cream, Chocolate Sauce, Chantilly...\n",
       "1  Vanilla Ice Cream                                  Vanilla Ice Cream\n",
       "2  Chocolat Liégeois  [Chocolate Ice Cream, Chocolate Sauce, Chantil..."
      ]
     },
     "execution_count": 2,
     "metadata": {},
     "output_type": "execute_result"
    }
   ],
   "source": [
    "df = pd.DataFrame(data=[{'dessert':'Dame Blanche', 'ingredient':['Vanilla Ice Cream','Chocolate Sauce','Chantilly Cream']}\n",
    "                        , {'dessert':'Vanilla Ice Cream', 'ingredient':'Vanilla Ice Cream'}\n",
    "                        , {'dessert':'Chocolat Liégeois', 'ingredient':['Chocolate Ice Cream','Chocolate Sauce','Chantilly Cream']}])\n",
    "df"
   ]
  },
  {
   "cell_type": "code",
   "execution_count": 3,
   "id": "a2bb5c74-0546-4370-a68e-06319e99ea80",
   "metadata": {},
   "outputs": [
    {
     "data": {
      "text/html": [
       "<div>\n",
       "<style scoped>\n",
       "    .dataframe tbody tr th:only-of-type {\n",
       "        vertical-align: middle;\n",
       "    }\n",
       "\n",
       "    .dataframe tbody tr th {\n",
       "        vertical-align: top;\n",
       "    }\n",
       "\n",
       "    .dataframe thead th {\n",
       "        text-align: right;\n",
       "    }\n",
       "</style>\n",
       "<table border=\"1\" class=\"dataframe\">\n",
       "  <thead>\n",
       "    <tr style=\"text-align: right;\">\n",
       "      <th></th>\n",
       "      <th>dessert</th>\n",
       "      <th>ingredient</th>\n",
       "    </tr>\n",
       "  </thead>\n",
       "  <tbody>\n",
       "    <tr>\n",
       "      <th>0</th>\n",
       "      <td>Dame Blanche</td>\n",
       "      <td>Vanilla Ice Cream</td>\n",
       "    </tr>\n",
       "    <tr>\n",
       "      <th>0</th>\n",
       "      <td>Dame Blanche</td>\n",
       "      <td>Chocolate Sauce</td>\n",
       "    </tr>\n",
       "    <tr>\n",
       "      <th>0</th>\n",
       "      <td>Dame Blanche</td>\n",
       "      <td>Chantilly Cream</td>\n",
       "    </tr>\n",
       "    <tr>\n",
       "      <th>1</th>\n",
       "      <td>Vanilla Ice Cream</td>\n",
       "      <td>Vanilla Ice Cream</td>\n",
       "    </tr>\n",
       "    <tr>\n",
       "      <th>2</th>\n",
       "      <td>Chocolat Liégeois</td>\n",
       "      <td>Chocolate Ice Cream</td>\n",
       "    </tr>\n",
       "    <tr>\n",
       "      <th>2</th>\n",
       "      <td>Chocolat Liégeois</td>\n",
       "      <td>Chocolate Sauce</td>\n",
       "    </tr>\n",
       "    <tr>\n",
       "      <th>2</th>\n",
       "      <td>Chocolat Liégeois</td>\n",
       "      <td>Chantilly Cream</td>\n",
       "    </tr>\n",
       "  </tbody>\n",
       "</table>\n",
       "</div>"
      ],
      "text/plain": [
       "             dessert           ingredient\n",
       "0       Dame Blanche    Vanilla Ice Cream\n",
       "0       Dame Blanche      Chocolate Sauce\n",
       "0       Dame Blanche      Chantilly Cream\n",
       "1  Vanilla Ice Cream    Vanilla Ice Cream\n",
       "2  Chocolat Liégeois  Chocolate Ice Cream\n",
       "2  Chocolat Liégeois      Chocolate Sauce\n",
       "2  Chocolat Liégeois      Chantilly Cream"
      ]
     },
     "execution_count": 3,
     "metadata": {},
     "output_type": "execute_result"
    }
   ],
   "source": [
    "# In this step we explode the list of items, meaning the other columns get duplicated and you have a row for each original item along with each item of the list\n",
    "# ...this will be the basis of the intermediate table (to solve the many-to-many relationship we have \n",
    "df_exploded = df.explode('ingredient')\n",
    "df_exploded"
   ]
  },
  {
   "cell_type": "code",
   "execution_count": 7,
   "id": "0bdee753-644b-43ac-8a41-6a95c2d3bb65",
   "metadata": {},
   "outputs": [
    {
     "data": {
      "text/html": [
       "<div>\n",
       "<style scoped>\n",
       "    .dataframe tbody tr th:only-of-type {\n",
       "        vertical-align: middle;\n",
       "    }\n",
       "\n",
       "    .dataframe tbody tr th {\n",
       "        vertical-align: top;\n",
       "    }\n",
       "\n",
       "    .dataframe thead th {\n",
       "        text-align: right;\n",
       "    }\n",
       "</style>\n",
       "<table border=\"1\" class=\"dataframe\">\n",
       "  <thead>\n",
       "    <tr style=\"text-align: right;\">\n",
       "      <th></th>\n",
       "      <th>dessert_id</th>\n",
       "      <th>ingredient_id</th>\n",
       "    </tr>\n",
       "  </thead>\n",
       "  <tbody>\n",
       "    <tr>\n",
       "      <th>0</th>\n",
       "      <td>0</td>\n",
       "      <td>0</td>\n",
       "    </tr>\n",
       "    <tr>\n",
       "      <th>1</th>\n",
       "      <td>0</td>\n",
       "      <td>3</td>\n",
       "    </tr>\n",
       "    <tr>\n",
       "      <th>2</th>\n",
       "      <td>0</td>\n",
       "      <td>1</td>\n",
       "    </tr>\n",
       "    <tr>\n",
       "      <th>3</th>\n",
       "      <td>1</td>\n",
       "      <td>0</td>\n",
       "    </tr>\n",
       "    <tr>\n",
       "      <th>4</th>\n",
       "      <td>2</td>\n",
       "      <td>3</td>\n",
       "    </tr>\n",
       "    <tr>\n",
       "      <th>5</th>\n",
       "      <td>2</td>\n",
       "      <td>1</td>\n",
       "    </tr>\n",
       "    <tr>\n",
       "      <th>6</th>\n",
       "      <td>2</td>\n",
       "      <td>2</td>\n",
       "    </tr>\n",
       "  </tbody>\n",
       "</table>\n",
       "</div>"
      ],
      "text/plain": [
       "   dessert_id ingredient_id\n",
       "0           0             0\n",
       "1           0             3\n",
       "2           0             1\n",
       "3           1             0\n",
       "4           2             3\n",
       "5           2             1\n",
       "6           2             2"
      ]
     },
     "execution_count": 7,
     "metadata": {},
     "output_type": "execute_result"
    }
   ],
   "source": [
    "# now we return to the intermediate table - we merge both the prior tables on the ingredient itself, then we just need to keep the id's from each table - these will be our foreign keys\n",
    "dessert_ingredient_table = df_exploded\n",
    "dessert_ingredient_table = dessert_ingredient_table.merge(ingredient_table, on='ingredient')\n",
    "dessert_ingredient_table = dessert_ingredient_table.merge(dessert_table, on='dessert')\n",
    "dessert_ingredient_table = dessert_ingredient_table[['dessert_id','ingredient_id']]\n",
    "dessert_ingredient_table"
   ]
  },
  {
   "cell_type": "code",
   "execution_count": 8,
   "id": "f581bd29-ef18-4381-ac62-9d5814ee94ed",
   "metadata": {},
   "outputs": [],
   "source": [
    "# we can export these tables to SQL now (you can drop the index) and set the relationships up there, then automagically create the ERD"
   ]
  }
 ],
 "metadata": {
  "kernelspec": {
   "display_name": "Python 3 (ipykernel)",
   "language": "python",
   "name": "python3"
  },
  "language_info": {
   "codemirror_mode": {
    "name": "ipython",
    "version": 3
   },
   "file_extension": ".py",
   "mimetype": "text/x-python",
   "name": "python",
   "nbconvert_exporter": "python",
   "pygments_lexer": "ipython3",
   "version": "3.9.6"
  }
 },
 "nbformat": 4,
 "nbformat_minor": 5
}
