{
 "cells": [
  {
   "cell_type": "code",
   "execution_count": 3,
   "metadata": {},
   "outputs": [],
   "source": [
    "import pandas as pd\n",
    "male = pd.read_csv('movies_clean.csv')\n",
    "fem_250 = pd.read_csv(\"movie_df.csv\")\n",
    "fem_1 = pd.read_csv('female_directors.csv')\n"
   ]
  },
  {
   "cell_type": "code",
   "execution_count": 2,
   "metadata": {},
   "outputs": [],
   "source": [
    "male.drop(columns=['original_language','runtime','spoken_languages', 'original_title', 'release_date'], inplace=True)"
   ]
  },
  {
   "cell_type": "code",
   "execution_count": 5,
   "metadata": {},
   "outputs": [
    {
     "data": {
      "text/plain": [
       "(9778, 20)"
      ]
     },
     "execution_count": 5,
     "metadata": {},
     "output_type": "execute_result"
    }
   ],
   "source": [
    "male.shape"
   ]
  },
  {
   "cell_type": "code",
   "execution_count": 8,
   "metadata": {},
   "outputs": [
    {
     "data": {
      "text/plain": [
       "(790, 1)"
      ]
     },
     "execution_count": 8,
     "metadata": {},
     "output_type": "execute_result"
    }
   ],
   "source": [
    "fem_1.shape"
   ]
  },
  {
   "cell_type": "code",
   "execution_count": 7,
   "metadata": {},
   "outputs": [
    {
     "data": {
      "text/html": [
       "<div>\n",
       "<style scoped>\n",
       "    .dataframe tbody tr th:only-of-type {\n",
       "        vertical-align: middle;\n",
       "    }\n",
       "\n",
       "    .dataframe tbody tr th {\n",
       "        vertical-align: top;\n",
       "    }\n",
       "\n",
       "    .dataframe thead th {\n",
       "        text-align: right;\n",
       "    }\n",
       "</style>\n",
       "<table border=\"1\" class=\"dataframe\">\n",
       "  <thead>\n",
       "    <tr style=\"text-align: right;\">\n",
       "      <th></th>\n",
       "      <th></th>\n",
       "      <th></th>\n",
       "      <th></th>\n",
       "      <th>Letterboxd list export v7</th>\n",
       "    </tr>\n",
       "  </thead>\n",
       "  <tbody>\n",
       "    <tr>\n",
       "      <th>Date</th>\n",
       "      <th>Name</th>\n",
       "      <th>Tags</th>\n",
       "      <th>URL</th>\n",
       "      <td>Description</td>\n",
       "    </tr>\n",
       "    <tr>\n",
       "      <th>2023-05-26</th>\n",
       "      <th>Women Directors: The Official Top 250 Narrative Feature Films</th>\n",
       "      <th>letterboxd, women directors, official top 250</th>\n",
       "      <th>https://boxd.it/mX8MY</th>\n",
       "      <td>&lt;3</td>\n",
       "    </tr>\n",
       "    <tr>\n",
       "      <th>Position</th>\n",
       "      <th>Name</th>\n",
       "      <th>Year</th>\n",
       "      <th>URL</th>\n",
       "      <td>Description</td>\n",
       "    </tr>\n",
       "    <tr>\n",
       "      <th>1</th>\n",
       "      <th>City of God</th>\n",
       "      <th>2002</th>\n",
       "      <th>https://boxd.it/2a2a</th>\n",
       "      <td>NaN</td>\n",
       "    </tr>\n",
       "    <tr>\n",
       "      <th>2</th>\n",
       "      <th>Moral</th>\n",
       "      <th>1982</th>\n",
       "      <th>https://boxd.it/7s3g</th>\n",
       "      <td>NaN</td>\n",
       "    </tr>\n",
       "    <tr>\n",
       "      <th>...</th>\n",
       "      <th>...</th>\n",
       "      <th>...</th>\n",
       "      <th>...</th>\n",
       "      <td>...</td>\n",
       "    </tr>\n",
       "    <tr>\n",
       "      <th>246</th>\n",
       "      <th>Selma</th>\n",
       "      <th>2014</th>\n",
       "      <th>https://boxd.it/8jak</th>\n",
       "      <td>NaN</td>\n",
       "    </tr>\n",
       "    <tr>\n",
       "      <th>247</th>\n",
       "      <th>I Am Not a Witch</th>\n",
       "      <th>2017</th>\n",
       "      <th>https://boxd.it/g1yY</th>\n",
       "      <td>NaN</td>\n",
       "    </tr>\n",
       "    <tr>\n",
       "      <th>248</th>\n",
       "      <th>American Honey</th>\n",
       "      <th>2016</th>\n",
       "      <th>https://boxd.it/bk7C</th>\n",
       "      <td>NaN</td>\n",
       "    </tr>\n",
       "    <tr>\n",
       "      <th>249</th>\n",
       "      <th>The Hedgehog</th>\n",
       "      <th>2009</th>\n",
       "      <th>https://boxd.it/1ERg</th>\n",
       "      <td>NaN</td>\n",
       "    </tr>\n",
       "    <tr>\n",
       "      <th>250</th>\n",
       "      <th>Ticket of No Return</th>\n",
       "      <th>1979</th>\n",
       "      <th>https://boxd.it/3B9Y</th>\n",
       "      <td>NaN</td>\n",
       "    </tr>\n",
       "  </tbody>\n",
       "</table>\n",
       "<p>253 rows × 1 columns</p>\n",
       "</div>"
      ],
      "text/plain": [
       "                                                                                                                                  Letterboxd list export v7\n",
       "Date       Name                                               Tags                                          URL                                 Description\n",
       "2023-05-26 Women Directors: The Official Top 250 Narrative... letterboxd, women directors, official top 250 https://boxd.it/mX8MY                        <3\n",
       "Position   Name                                               Year                                          URL                                 Description\n",
       "1          City of God                                        2002                                          https://boxd.it/2a2a                        NaN\n",
       "2          Moral                                              1982                                          https://boxd.it/7s3g                        NaN\n",
       "...                                                                                                                                                     ...\n",
       "246        Selma                                              2014                                          https://boxd.it/8jak                        NaN\n",
       "247        I Am Not a Witch                                   2017                                          https://boxd.it/g1yY                        NaN\n",
       "248        American Honey                                     2016                                          https://boxd.it/bk7C                        NaN\n",
       "249        The Hedgehog                                       2009                                          https://boxd.it/1ERg                        NaN\n",
       "250        Ticket of No Return                                1979                                          https://boxd.it/3B9Y                        NaN\n",
       "\n",
       "[253 rows x 1 columns]"
      ]
     },
     "execution_count": 7,
     "metadata": {},
     "output_type": "execute_result"
    }
   ],
   "source": [
    "fem_250"
   ]
  },
  {
   "cell_type": "code",
   "execution_count": null,
   "metadata": {},
   "outputs": [],
   "source": []
  },
  {
   "cell_type": "code",
   "execution_count": null,
   "metadata": {},
   "outputs": [],
   "source": [
    "# Connecting to the API\n",
    "import tmdbsimple as tmdb\n",
    "\n",
    "tmdb.API_KEY = '6c37d50741c7004f344af19bf3a67b10'\n",
    "\n",
    "# Declare variable to use the Search and Discover function\n",
    "search = tmdb.Search()\n",
    "discover = tmdb.Discover()"
   ]
  }
 ],
 "metadata": {
  "kernelspec": {
   "display_name": "base",
   "language": "python",
   "name": "python3"
  },
  "language_info": {
   "codemirror_mode": {
    "name": "ipython",
    "version": 3
   },
   "file_extension": ".py",
   "mimetype": "text/x-python",
   "name": "python",
   "nbconvert_exporter": "python",
   "pygments_lexer": "ipython3",
   "version": "3.9.13"
  },
  "orig_nbformat": 4
 },
 "nbformat": 4,
 "nbformat_minor": 2
}
