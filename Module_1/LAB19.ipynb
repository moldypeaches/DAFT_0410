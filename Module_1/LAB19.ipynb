{
 "cells": [
  {
   "cell_type": "code",
   "execution_count": null,
   "id": "bb796d81",
   "metadata": {},
   "outputs": [],
   "source": [
    "1. From the order_items table, find the price of the highest priced order and lowest price order.\n",
    "The highest priced order is the order no.'0812eb902a67711a1cb742b3cdaa65ae' which costs6735.\n",
    "There are three lowest priced orders which cost 0.85, the order no.'0812eb902a67711a1cb742b3cdaa65ae', '6e864b3f0ec71031117ad4cf46b7f2a1', '3ee6513ae7ea23bdfab5b9ab60bffcb5'.\n",
    "\n",
    "2. From the order_items table, what is range of the shipping_limit_date of the orders?\n",
    "\n",
    "'c2bb89b5c1dd978d507284be78a04cb2', '2', '2020-04-10 00:35:08'\n",
    "'e5fa5a7210941f7d56d0208e4e071d35', '1', '2016-09-19 02:15:34'\n",
    "\n",
    "3. From the customers table, find the states with the greatest number of customers.\n",
    "4. From the customers table, within the state with the greatest number of customers, find the cities with the greatest number of customers.\n",
    "5. From the closed_deals table, how many distinct business segments are there (not including null)?\n",
    "6. From the closed_deals table, sum the declared_monthly_revenue for duplicate row values in business_segment and find the 3 business segments with the highest declared monthly revenue (of those that declared revenue).\n",
    "7. From the order_reviews table, find the total number of distinct review score values.\n",
    "8. In the order_reviews table, create a new column with a description that corresponds to each number category for each review score from 1 - 5, then find the review score and category occurring most frequently in the table.\n",
    "9. From the order_reviews table, find the review value occurring most frequently and how many times it occurs.\n",
    "\n",
    "\n",
    "\n"
   ]
  }
 ],
 "metadata": {
  "kernelspec": {
   "display_name": "Python 3 (ipykernel)",
   "language": "python",
   "name": "python3"
  },
  "language_info": {
   "codemirror_mode": {
    "name": "ipython",
    "version": 3
   },
   "file_extension": ".py",
   "mimetype": "text/x-python",
   "name": "python",
   "nbconvert_exporter": "python",
   "pygments_lexer": "ipython3",
   "version": "3.9.13"
  }
 },
 "nbformat": 4,
 "nbformat_minor": 5
}
