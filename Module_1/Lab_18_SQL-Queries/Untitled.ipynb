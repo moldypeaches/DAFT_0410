{
 "cells": [
  {
   "cell_type": "code",
   "execution_count": null,
   "id": "34d5c4f0",
   "metadata": {},
   "outputs": [],
   "source": [
    "Error Code: 1140. In aggregated query without GROUP BY, expression #1 of SELECT list contains nonaggregated column 'olist.customers.customer_state'; this is incompatible with sql_mode=only_full_group_by\n"
   ]
  }
 ],
 "metadata": {
  "kernelspec": {
   "display_name": "Python 3 (ipykernel)",
   "language": "python",
   "name": "python3"
  },
  "language_info": {
   "codemirror_mode": {
    "name": "ipython",
    "version": 3
   },
   "file_extension": ".py",
   "mimetype": "text/x-python",
   "name": "python",
   "nbconvert_exporter": "python",
   "pygments_lexer": "ipython3",
   "version": "3.9.13"
  }
 },
 "nbformat": 4,
 "nbformat_minor": 5
}
