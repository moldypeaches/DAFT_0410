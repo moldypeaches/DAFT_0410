{
 "cells": [
  {
   "cell_type": "code",
   "execution_count": 9,
   "id": "8a84d988",
   "metadata": {},
   "outputs": [],
   "source": [
    "def add10_1(x):\n",
    "    return x +10"
   ]
  },
  {
   "cell_type": "code",
   "execution_count": 2,
   "id": "cf056b4a",
   "metadata": {},
   "outputs": [],
   "source": [
    "myfunc = lambda  x: x+10"
   ]
  },
  {
   "cell_type": "code",
   "execution_count": 5,
   "id": "5a35cb94",
   "metadata": {},
   "outputs": [
    {
     "data": {
      "text/plain": [
       "14"
      ]
     },
     "execution_count": 5,
     "metadata": {},
     "output_type": "execute_result"
    }
   ],
   "source": [
    "add10_1(4)"
   ]
  },
  {
   "cell_type": "code",
   "execution_count": 8,
   "id": "0d1c52fc",
   "metadata": {},
   "outputs": [],
   "source": [
    "add10_2 = lambda x: x+10 #Lambda is quicker (when not too complex)"
   ]
  },
  {
   "cell_type": "code",
   "execution_count": 7,
   "id": "840c2412",
   "metadata": {},
   "outputs": [
    {
     "data": {
      "text/plain": [
       "14"
      ]
     },
     "execution_count": 7,
     "metadata": {},
     "output_type": "execute_result"
    }
   ],
   "source": [
    "add10_2(4)"
   ]
  },
  {
   "cell_type": "code",
   "execution_count": null,
   "id": "37cb31a8",
   "metadata": {},
   "outputs": [],
   "source": [
    "split_on_comma = lambda s: s.split(',')"
   ]
  },
  {
   "cell_type": "code",
   "execution_count": null,
   "id": "8e8f0e47",
   "metadata": {},
   "outputs": [],
   "source": [
    "#If in lambda function \n",
    "\n",
    "threshold = lambda x: True if x>5 else False"
   ]
  },
  {
   "cell_type": "code",
   "execution_count": 10,
   "id": "99818a21",
   "metadata": {},
   "outputs": [],
   "source": [
    "threshold = lambda x: x>5 "
   ]
  },
  {
   "cell_type": "code",
   "execution_count": 11,
   "id": "4f56d1c3",
   "metadata": {},
   "outputs": [
    {
     "data": {
      "text/plain": [
       "False"
      ]
     },
     "execution_count": 11,
     "metadata": {},
     "output_type": "execute_result"
    }
   ],
   "source": [
    "threshold(2)"
   ]
  },
  {
   "cell_type": "code",
   "execution_count": 12,
   "id": "8eac0cf6",
   "metadata": {},
   "outputs": [],
   "source": [
    "def mod(d):\n",
    "    return lambda x: x% d"
   ]
  },
  {
   "cell_type": "code",
   "execution_count": 13,
   "id": "a66c8e50",
   "metadata": {},
   "outputs": [],
   "source": [
    "modulo3 = mod(3)"
   ]
  },
  {
   "cell_type": "code",
   "execution_count": 15,
   "id": "650a005f",
   "metadata": {},
   "outputs": [
    {
     "data": {
      "text/plain": [
       "1"
      ]
     },
     "execution_count": 15,
     "metadata": {},
     "output_type": "execute_result"
    }
   ],
   "source": [
    "modulo3(10)"
   ]
  },
  {
   "cell_type": "code",
   "execution_count": null,
   "id": "e514b5bc",
   "metadata": {},
   "outputs": [],
   "source": [
    "def selector_factory(user, password, port, url):\n",
    "    database = connect(user, password, port, url)\n",
    "    return lambdaq: database.query(q)"
   ]
  },
  {
   "cell_type": "code",
   "execution_count": null,
   "id": "e1dcb20a",
   "metadata": {},
   "outputs": [],
   "source": [
    "# lambda in list comprehension\n",
    "\n",
    "words =[\"HELLO  \", \"IRON  HACK\",\"  HEY\"]\n",
    "word2 = [w.lower() for w in words]"
   ]
  },
  {
   "cell_type": "code",
   "execution_count": 19,
   "id": "0a24a790",
   "metadata": {},
   "outputs": [
    {
     "data": {
      "text/plain": [
       "['hello', 'ironhack', 'hey']"
      ]
     },
     "execution_count": 19,
     "metadata": {},
     "output_type": "execute_result"
    }
   ],
   "source": [
    "word2"
   ]
  },
  {
   "cell_type": "code",
   "execution_count": 20,
   "id": "ee51fcd2",
   "metadata": {},
   "outputs": [],
   "source": [
    "tolower = lambda w: w.lower()"
   ]
  },
  {
   "cell_type": "code",
   "execution_count": 21,
   "id": "b191f877",
   "metadata": {},
   "outputs": [
    {
     "data": {
      "text/plain": [
       "['hello', 'ironhack', 'hey']"
      ]
     },
     "execution_count": 21,
     "metadata": {},
     "output_type": "execute_result"
    }
   ],
   "source": [
    "[tolower(w) for w in words]"
   ]
  },
  {
   "cell_type": "code",
   "execution_count": 22,
   "id": "7c80ba61",
   "metadata": {},
   "outputs": [],
   "source": [
    "def clean_all(lst, clean_one=lambda w: w.lower()): #default val\n",
    "    return [clean_one(x) for x in lst]"
   ]
  },
  {
   "cell_type": "code",
   "execution_count": 25,
   "id": "7b5cb254",
   "metadata": {},
   "outputs": [],
   "source": [
    "lower_and_strip = lambda w: w.lower().strip()"
   ]
  },
  {
   "cell_type": "code",
   "execution_count": 28,
   "id": "397ebf88",
   "metadata": {},
   "outputs": [],
   "source": [
    "#we don't need a lambda here and can do it with a function\n",
    "def lower_and_strip(w):\n",
    "    return w.lower().strip()\n",
    "\n",
    "#another more clear way with comments\n",
    "\n",
    "def lower_and_strip(w):\n",
    "    w= w.lower()\n",
    "    w= w.strip()\n",
    "    return w"
   ]
  },
  {
   "cell_type": "code",
   "execution_count": 26,
   "id": "90cb127d",
   "metadata": {},
   "outputs": [
    {
     "data": {
      "text/plain": [
       "['hello', 'ironhack', 'hey']"
      ]
     },
     "execution_count": 26,
     "metadata": {},
     "output_type": "execute_result"
    }
   ],
   "source": [
    "clean_all(words, clean_one=lower_and_strip) #i don't technically need to include the clean_one here"
   ]
  },
  {
   "cell_type": "markdown",
   "id": "99217701",
   "metadata": {},
   "source": [
    "# Map"
   ]
  },
  {
   "cell_type": "code",
   "execution_count": 29,
   "id": "713f4fdb",
   "metadata": {},
   "outputs": [
    {
     "data": {
      "text/plain": [
       "['hello', 'ironhack', 'hey']"
      ]
     },
     "execution_count": 29,
     "metadata": {},
     "output_type": "execute_result"
    }
   ],
   "source": [
    "#Map_reduce is a way of aggregating datasets\n",
    "#Map is iterator\n",
    "#See map as a recipe before starting to cook \n",
    "[lower_and_strip(w) for w in words]"
   ]
  },
  {
   "cell_type": "code",
   "execution_count": 32,
   "id": "a7c60492",
   "metadata": {},
   "outputs": [
    {
     "data": {
      "text/plain": [
       "['hello', 'ironhack', 'hey']"
      ]
     },
     "execution_count": 32,
     "metadata": {},
     "output_type": "execute_result"
    }
   ],
   "source": [
    "list(map(lower_and_strip, words))"
   ]
  },
  {
   "cell_type": "code",
   "execution_count": 34,
   "id": "a5f7eff1",
   "metadata": {},
   "outputs": [
    {
     "name": "stdout",
     "output_type": "stream",
     "text": [
      "0 HELLO\n",
      "1 IRONHACK\n",
      "2 HEY\n"
     ]
    }
   ],
   "source": [
    "for i, x in enumerate(words):\n",
    "        print(i,x)\n",
    "    "
   ]
  },
  {
   "cell_type": "code",
   "execution_count": 36,
   "id": "9d843964",
   "metadata": {},
   "outputs": [
    {
     "name": "stdout",
     "output_type": "stream",
     "text": [
      "hello\n",
      "ironhack\n",
      "hey\n"
     ]
    }
   ],
   "source": [
    "#Do it with map\n",
    "results_lazy = map(lower_and_strip, words)\n",
    "for i, x in enumerate(results_lazy):\n",
    "    if i == 3:\n",
    "        break\n",
    "    print(x)\n",
    "     "
   ]
  },
  {
   "cell_type": "markdown",
   "id": "166573d7",
   "metadata": {},
   "source": [
    "# Filter is a generator"
   ]
  },
  {
   "cell_type": "code",
   "execution_count": 38,
   "id": "2c4b9740",
   "metadata": {},
   "outputs": [],
   "source": [
    "numbers = list(range(100))"
   ]
  },
  {
   "cell_type": "code",
   "execution_count": 40,
   "id": "a86d0886",
   "metadata": {
    "collapsed": true
   },
   "outputs": [
    {
     "data": {
      "text/plain": [
       "[0,\n",
       " 2,\n",
       " 4,\n",
       " 6,\n",
       " 8,\n",
       " 10,\n",
       " 12,\n",
       " 14,\n",
       " 16,\n",
       " 18,\n",
       " 20,\n",
       " 22,\n",
       " 24,\n",
       " 26,\n",
       " 28,\n",
       " 30,\n",
       " 32,\n",
       " 34,\n",
       " 36,\n",
       " 38,\n",
       " 40,\n",
       " 42,\n",
       " 44,\n",
       " 46,\n",
       " 48,\n",
       " 50,\n",
       " 52,\n",
       " 54,\n",
       " 56,\n",
       " 58,\n",
       " 60,\n",
       " 62,\n",
       " 64,\n",
       " 66,\n",
       " 68,\n",
       " 70,\n",
       " 72,\n",
       " 74,\n",
       " 76,\n",
       " 78,\n",
       " 80,\n",
       " 82,\n",
       " 84,\n",
       " 86,\n",
       " 88,\n",
       " 90,\n",
       " 92,\n",
       " 94,\n",
       " 96,\n",
       " 98]"
      ]
     },
     "execution_count": 40,
     "metadata": {},
     "output_type": "execute_result"
    }
   ],
   "source": [
    "[m for m in numbers if m % 2 == 0]"
   ]
  },
  {
   "cell_type": "code",
   "execution_count": 42,
   "id": "e40250f2",
   "metadata": {},
   "outputs": [],
   "source": [
    "is_even = lambda x: x% 2 ==0"
   ]
  },
  {
   "cell_type": "code",
   "execution_count": 46,
   "id": "8d925f2b",
   "metadata": {
    "collapsed": true
   },
   "outputs": [
    {
     "data": {
      "text/plain": [
       "[0,\n",
       " 2,\n",
       " 4,\n",
       " 6,\n",
       " 8,\n",
       " 10,\n",
       " 12,\n",
       " 14,\n",
       " 16,\n",
       " 18,\n",
       " 20,\n",
       " 22,\n",
       " 24,\n",
       " 26,\n",
       " 28,\n",
       " 30,\n",
       " 32,\n",
       " 34,\n",
       " 36,\n",
       " 38,\n",
       " 40,\n",
       " 42,\n",
       " 44,\n",
       " 46,\n",
       " 48,\n",
       " 50,\n",
       " 52,\n",
       " 54,\n",
       " 56,\n",
       " 58,\n",
       " 60,\n",
       " 62,\n",
       " 64,\n",
       " 66,\n",
       " 68,\n",
       " 70,\n",
       " 72,\n",
       " 74,\n",
       " 76,\n",
       " 78,\n",
       " 80,\n",
       " 82,\n",
       " 84,\n",
       " 86,\n",
       " 88,\n",
       " 90,\n",
       " 92,\n",
       " 94,\n",
       " 96,\n",
       " 98]"
      ]
     },
     "execution_count": 46,
     "metadata": {},
     "output_type": "execute_result"
    }
   ],
   "source": [
    "is_even(10)\n",
    "\n",
    "#\n",
    "list(filter(is_even, numbers))"
   ]
  },
  {
   "cell_type": "markdown",
   "id": "2ecec3ed",
   "metadata": {},
   "source": [
    "# Reduce: function "
   ]
  },
  {
   "cell_type": "code",
   "execution_count": null,
   "id": "5565ec5a",
   "metadata": {},
   "outputs": [],
   "source": [
    "#Transform an iterable into one value"
   ]
  },
  {
   "cell_type": "code",
   "execution_count": 47,
   "id": "e76c92fd",
   "metadata": {},
   "outputs": [],
   "source": [
    "from functools import reduce"
   ]
  },
  {
   "cell_type": "code",
   "execution_count": 49,
   "id": "85f48854",
   "metadata": {},
   "outputs": [],
   "source": [
    "numbers = list(range(10))"
   ]
  },
  {
   "cell_type": "code",
   "execution_count": 50,
   "id": "32d83191",
   "metadata": {},
   "outputs": [
    {
     "data": {
      "text/plain": [
       "45"
      ]
     },
     "execution_count": 50,
     "metadata": {},
     "output_type": "execute_result"
    }
   ],
   "source": [
    "sum(numbers)"
   ]
  },
  {
   "cell_type": "code",
   "execution_count": null,
   "id": "18928066",
   "metadata": {},
   "outputs": [],
   "source": [
    "add = lambda x, y: ???"
   ]
  },
  {
   "cell_type": "code",
   "execution_count": 54,
   "id": "09b2a8d6",
   "metadata": {},
   "outputs": [
    {
     "data": {
      "text/plain": [
       "0"
      ]
     },
     "execution_count": 54,
     "metadata": {},
     "output_type": "execute_result"
    }
   ],
   "source": [
    "reduce(min_, numbers)"
   ]
  },
  {
   "cell_type": "code",
   "execution_count": 53,
   "id": "63655a75",
   "metadata": {},
   "outputs": [],
   "source": [
    "min_ = lambda x,y: x if x<y else y"
   ]
  }
 ],
 "metadata": {
  "kernelspec": {
   "display_name": "Python 3 (ipykernel)",
   "language": "python",
   "name": "python3"
  },
  "language_info": {
   "codemirror_mode": {
    "name": "ipython",
    "version": 3
   },
   "file_extension": ".py",
   "mimetype": "text/x-python",
   "name": "python",
   "nbconvert_exporter": "python",
   "pygments_lexer": "ipython3",
   "version": "3.9.13"
  }
 },
 "nbformat": 4,
 "nbformat_minor": 5
}
