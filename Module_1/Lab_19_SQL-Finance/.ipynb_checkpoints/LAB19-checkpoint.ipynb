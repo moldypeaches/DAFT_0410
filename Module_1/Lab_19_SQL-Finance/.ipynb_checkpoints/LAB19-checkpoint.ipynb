{
 "cells": [
  {
   "cell_type": "code",
   "execution_count": null,
   "id": "14c80740",
   "metadata": {},
   "outputs": [],
   "source": [
    "1. From the order_items table, find the price of the highest priced order and lowest price order.\n",
    "    highest priced order = Order no. '0812eb902a67711a1cb742b3cdaa65ae' = 6735'€\n",
    "\n",
    "        lowest price order = 3 orders, each of them costs 0,85€\n",
    "'0.85', 'c5bdd8ef3c0ec420232e668302179113', \n",
    "'0.85', '6e864b3f0ec71031117ad4cf46b7f2a1', \n",
    "'0.85', '3ee6513ae7ea23bdfab5b9ab60bffcb5', \n",
    "\n",
    "2. From the order_items table, what is range of the shipping_limit_date of the orders?\n",
    "'1299'\n",
    "\n",
    "3. From the customers table, find the states with the greatest number of customers.\n",
    "'SP' with '41746' customers.\n",
    "\n",
    "4. From the customers table, within the state with the greatest number of customers, find the cities with the greatest number of customers.\n",
    "'sao paulo' in 'SP'state with'15540'customers.\n",
    "\n",
    "5. From the closed_deals table, how many distinct business segments are there (not including null)?\n",
    "The query returned 33 rows. there are 33 distinct business segments.\n",
    "\n",
    "6. From the closed_deals table, sum the declared_monthly_revenue for duplicate row values in business_segment and find the 3 business segments with the highest declared monthly revenue (of those that declared revenue).\n",
    "'construction_tools_house_garden' has the highest monthly revenue of '50695006'.\n",
    "'phone_mobile' has the second highest monthly revenue of '8000000'.\n",
    "'home_decor'has the third highest monthly revenue of '710000'.\n",
    "\n",
    "7. From the order_reviews table, find the total number of distinct review score values.\n",
    "5 disinct values: '1', '2', '3', '4', '5';\n",
    "\n",
    "8. In the order_reviews table, create a new column with a description that corresponds to each number category for each review score from 1 - 5, then find the review score and category occurring most frequently in the table.\n",
    "The review score 'very good', '5', appears '57420' times.\n",
    "\n",
    "9. From the order_reviews table, find the review value occurring most frequently and how many times it occurs.\n",
    "The review score 'very good', '5', appears '57420' times."
   ]
  }
 ],
 "metadata": {
  "kernelspec": {
   "display_name": "Python 3 (ipykernel)",
   "language": "python",
   "name": "python3"
  },
  "language_info": {
   "codemirror_mode": {
    "name": "ipython",
    "version": 3
   },
   "file_extension": ".py",
   "mimetype": "text/x-python",
   "name": "python",
   "nbconvert_exporter": "python",
   "pygments_lexer": "ipython3",
   "version": "3.9.13"
  }
 },
 "nbformat": 4,
 "nbformat_minor": 5
}
