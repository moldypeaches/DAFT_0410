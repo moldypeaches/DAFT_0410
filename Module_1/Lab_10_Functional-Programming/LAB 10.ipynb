{
 "cells": [
  {
   "cell_type": "markdown",
   "id": "c1dde794",
   "metadata": {},
   "source": [
    "# Consider an array/list of sheep where some sheep may be missing from their place. We need a function that counts the number of sheep present in the array (true means present)."
   ]
  },
  {
   "cell_type": "code",
   "execution_count": 18,
   "id": "3175183d",
   "metadata": {},
   "outputs": [],
   "source": [
    " sheep_list = [True,  True,  True,  False,\n",
    "  True,  True,  True,  True ,\n",
    "  True,  False, True,  False,\n",
    "  True,  False, False, True ,\n",
    "  True,  True,  True,  True ,\n",
    "  False, False, True,  True]\n",
    "    "
   ]
  },
  {
   "cell_type": "code",
   "execution_count": 21,
   "id": "e265ac8d",
   "metadata": {},
   "outputs": [],
   "source": [
    "def count_sheeps(sheep):\n",
    "   \n",
    "    sheep_count = 0\n",
    "    \n",
    "    for s in sheep:\n",
    "        if s:\n",
    "            sheep_count += 1 \n",
    "\n",
    "    return sheep_count"
   ]
  },
  {
   "cell_type": "code",
   "execution_count": 22,
   "id": "753559c5",
   "metadata": {
    "scrolled": true
   },
   "outputs": [
    {
     "data": {
      "text/plain": [
       "17"
      ]
     },
     "execution_count": 22,
     "metadata": {},
     "output_type": "execute_result"
    }
   ],
   "source": [
    "count_sheeps(sheep_list)"
   ]
  },
  {
   "cell_type": "code",
   "execution_count": 23,
   "id": "ea77a217",
   "metadata": {},
   "outputs": [],
   "source": [
    "##Exercise 2"
   ]
  },
  {
   "cell_type": "code",
   "execution_count": 33,
   "id": "56055329",
   "metadata": {},
   "outputs": [],
   "source": [
    "def remove_every_other(my_list):\n",
    "    \n",
    "    new_list = my_list[::2]\n",
    "\n",
    "    return new_list"
   ]
  },
  {
   "cell_type": "code",
   "execution_count": 31,
   "id": "c1b1a38c",
   "metadata": {},
   "outputs": [],
   "source": [
    "k_r_lst= [\"Keep\", \"Remove\", \"Keep\", \"Remove\", \"Keep\", \"Remove\"]"
   ]
  },
  {
   "cell_type": "code",
   "execution_count": 34,
   "id": "28da77f6",
   "metadata": {},
   "outputs": [
    {
     "data": {
      "text/plain": [
       "['Keep', 'Keep', 'Keep']"
      ]
     },
     "execution_count": 34,
     "metadata": {},
     "output_type": "execute_result"
    }
   ],
   "source": [
    "remove_every_other(k_r_lst)"
   ]
  },
  {
   "cell_type": "code",
   "execution_count": 35,
   "id": "ed636fae",
   "metadata": {},
   "outputs": [],
   "source": [
    "##Exercice 3"
   ]
  },
  {
   "cell_type": "code",
   "execution_count": null,
   "id": "14150b1c",
   "metadata": {},
   "outputs": [],
   "source": [
    "def digitize(n):\n",
    "    \n",
    "    order_by = \n",
    "    return "
   ]
  },
  {
   "cell_type": "code",
   "execution_count": 36,
   "id": "fb0dce2c",
   "metadata": {},
   "outputs": [
    {
     "ename": "SyntaxError",
     "evalue": "cannot assign to literal (665730145.py, line 1)",
     "output_type": "error",
     "traceback": [
      "\u001b[0;36m  File \u001b[0;32m\"/var/folders/_s/5ccjvt852hv4ddn7j5mrvy1m0000gn/T/ipykernel_12295/665730145.py\"\u001b[0;36m, line \u001b[0;32m1\u001b[0m\n\u001b[0;31m    35231 => [1,3,2,5,3]\u001b[0m\n\u001b[0m    ^\u001b[0m\n\u001b[0;31mSyntaxError\u001b[0m\u001b[0;31m:\u001b[0m cannot assign to literal\n"
     ]
    }
   ],
   "source": [
    "35231 => [1,3,2,5,3]\n"
   ]
  },
  {
   "cell_type": "code",
   "execution_count": null,
   "id": "e6db96ea",
   "metadata": {},
   "outputs": [],
   "source": []
  },
  {
   "cell_type": "code",
   "execution_count": null,
   "id": "15005016",
   "metadata": {},
   "outputs": [],
   "source": []
  },
  {
   "cell_type": "code",
   "execution_count": null,
   "id": "52a30667",
   "metadata": {},
   "outputs": [],
   "source": []
  }
 ],
 "metadata": {
  "kernelspec": {
   "display_name": "Python 3 (ipykernel)",
   "language": "python",
   "name": "python3"
  },
  "language_info": {
   "codemirror_mode": {
    "name": "ipython",
    "version": 3
   },
   "file_extension": ".py",
   "mimetype": "text/x-python",
   "name": "python",
   "nbconvert_exporter": "python",
   "pygments_lexer": "ipython3",
   "version": "3.9.13"
  }
 },
 "nbformat": 4,
 "nbformat_minor": 5
}
