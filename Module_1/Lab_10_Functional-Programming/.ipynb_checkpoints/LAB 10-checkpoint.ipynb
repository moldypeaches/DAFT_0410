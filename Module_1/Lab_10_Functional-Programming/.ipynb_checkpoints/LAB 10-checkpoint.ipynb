{
 "cells": [
  {
   "cell_type": "markdown",
   "id": "3076e3d7",
   "metadata": {},
   "source": [
    "# Consider an array/list of sheep where some sheep may be missing from their place. We need a function that counts the number of sheep present in the array (true means present)."
   ]
  },
  {
   "cell_type": "code",
   "execution_count": 18,
   "id": "14ecd802",
   "metadata": {},
   "outputs": [],
   "source": [
    " sheep_list = [True,  True,  True,  False,\n",
    "  True,  True,  True,  True ,\n",
    "  True,  False, True,  False,\n",
    "  True,  False, False, True ,\n",
    "  True,  True,  True,  True ,\n",
    "  False, False, True,  True]\n",
    "    "
   ]
  },
  {
   "cell_type": "code",
   "execution_count": 21,
   "id": "cf75cff2",
   "metadata": {},
   "outputs": [],
   "source": [
    "def count_sheeps(sheep):\n",
    "   \n",
    "    sheep_count = 0\n",
    "    \n",
    "    for s in sheep:\n",
    "        if s:\n",
    "            sheep_count += 1 \n",
    "\n",
    "    return sheep_count"
   ]
  },
  {
   "cell_type": "code",
   "execution_count": 22,
   "id": "37b0f495",
   "metadata": {
    "scrolled": true
   },
   "outputs": [
    {
     "data": {
      "text/plain": [
       "17"
      ]
     },
     "execution_count": 22,
     "metadata": {},
     "output_type": "execute_result"
    }
   ],
   "source": [
    "count_sheeps(sheep_list)"
   ]
  },
  {
   "cell_type": "code",
   "execution_count": 23,
   "id": "9118e187",
   "metadata": {},
   "outputs": [],
   "source": [
    "##Exercise 2"
   ]
  },
  {
   "cell_type": "code",
   "execution_count": 33,
   "id": "e92e19d1",
   "metadata": {},
   "outputs": [],
   "source": [
    "def remove_every_other(my_list):\n",
    "    \n",
    "    new_list = my_list[::2]\n",
    "\n",
    "    return new_list"
   ]
  },
  {
   "cell_type": "code",
   "execution_count": 31,
   "id": "786bd4e2",
   "metadata": {},
   "outputs": [],
   "source": [
    "k_r_lst= [\"Keep\", \"Remove\", \"Keep\", \"Remove\", \"Keep\", \"Remove\"]"
   ]
  },
  {
   "cell_type": "code",
   "execution_count": 34,
   "id": "89bf3e76",
   "metadata": {},
   "outputs": [
    {
     "data": {
      "text/plain": [
       "['Keep', 'Keep', 'Keep']"
      ]
     },
     "execution_count": 34,
     "metadata": {},
     "output_type": "execute_result"
    }
   ],
   "source": [
    "remove_every_other(k_r_lst)"
   ]
  },
  {
   "cell_type": "code",
   "execution_count": 35,
   "id": "49f0fda6",
   "metadata": {},
   "outputs": [],
   "source": [
    "##Exercice 3"
   ]
  },
  {
   "cell_type": "code",
   "execution_count": null,
   "id": "2c0c99f0",
   "metadata": {},
   "outputs": [],
   "source": [
    "def digitize(n):\n",
    "    return "
   ]
  },
  {
   "cell_type": "code",
   "execution_count": null,
   "id": "264e3a87",
   "metadata": {},
   "outputs": [],
   "source": []
  },
  {
   "cell_type": "code",
   "execution_count": null,
   "id": "1e97838e",
   "metadata": {},
   "outputs": [],
   "source": []
  },
  {
   "cell_type": "code",
   "execution_count": null,
   "id": "254bf39a",
   "metadata": {},
   "outputs": [],
   "source": []
  },
  {
   "cell_type": "code",
   "execution_count": null,
   "id": "56c62473",
   "metadata": {},
   "outputs": [],
   "source": []
  }
 ],
 "metadata": {
  "kernelspec": {
   "display_name": "Python 3 (ipykernel)",
   "language": "python",
   "name": "python3"
  },
  "language_info": {
   "codemirror_mode": {
    "name": "ipython",
    "version": 3
   },
   "file_extension": ".py",
   "mimetype": "text/x-python",
   "name": "python",
   "nbconvert_exporter": "python",
   "pygments_lexer": "ipython3",
   "version": "3.9.13"
  }
 },
 "nbformat": 4,
 "nbformat_minor": 5
}
