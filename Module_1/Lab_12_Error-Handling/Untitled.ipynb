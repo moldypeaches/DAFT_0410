{
 "cells": [
  {
   "cell_type": "code",
   "execution_count": null,
   "id": "38b24aaf",
   "metadata": {},
   "outputs": [],
   "source": []
  },
  {
   "cell_type": "code",
   "execution_count": null,
   "id": "8bf5ddc2",
   "metadata": {},
   "outputs": [],
   "source": []
  },
  {
   "cell_type": "code",
   "execution_count": null,
   "id": "60cb194f",
   "metadata": {},
   "outputs": [],
   "source": [
    "#Convert number to reversed array of digits\n",
    "#Given a random non-negative number, you have to return the digits of this number within an array in reverse order.\n",
    "\n",
    "#Example(Input => Output):\n",
    "#35231 => [1,3,2,5,3]\n",
    "#0 => [0]\n",
    "\n"
   ]
  },
  {
   "cell_type": "code",
   "execution_count": null,
   "id": "2f5a6121",
   "metadata": {},
   "outputs": [],
   "source": [
    "#Take an array and remove every second element from the array. Always keep the first element and start removing with the next element.\n",
    "\n",
    "#Example:\n",
    "#[\"Keep\", \"Remove\", \"Keep\", \"Remove\", \"Keep\", ...] --> [\"Keep\", \"Keep\", \"Keep\", ...]\n",
    "\n",
    "#None of the arrays will be empty, so you don't have to worry about that!\n",
    "\n",
    "random_array = [\"Keep\", \"Remove\", \"Keep\", \"Remove\", \"Keep\", \"Remove\", \"Keep\", \"Remove\", \"Keep\", \"Remove\", \"Keep\", \"Remove\", \"Keep\", \"Remove\", \"Keep\", \"Remove\"]\n",
    "\n",
    "def new_array(array):\n",
    "    for i in range(len(array)):\n",
    "        random_array.remove(\"Remove\")\n",
    "    return random_array\n",
    "\n",
    "print(new_array(random_array))"
   ]
  },
  {
   "cell_type": "code",
   "execution_count": null,
   "id": "03029d64",
   "metadata": {},
   "outputs": [],
   "source": [
    "#DESCRIPTION:\n",
    "#Welcome. In this kata, you are asked to square every digit of a number and concatenate them.\n",
    "\n",
    "#For example, if we run 9119 through the function, 811181 will come out, because 92 is 81 and 12 is 1. (81-1-1-81)\n",
    "\n",
    "#Example #2: An input of 765 will/should return 493625 because 72 is 49, 62 is 36, and 52 is 25. (49-36-25)\n",
    "\n",
    "#Note: The function accepts an integer and returns an integer.\n",
    "\n",
    "#Happy Coding!\n",
    "\n",
    "import math\n",
    "\n",
    "num = int(input(\"Please enter an integer: \"))\n",
    "\n",
    "def square_digit(number):\n",
    "    for i in num:\n",
    "        print(sqrt(num))\n",
    "    return square_root\n"
   ]
  },
  {
   "cell_type": "code",
   "execution_count": null,
   "id": "26666501",
   "metadata": {},
   "outputs": [],
   "source": []
  },
  {
   "cell_type": "code",
   "execution_count": null,
   "id": "f5ec71b0",
   "metadata": {},
   "outputs": [],
   "source": [
    "#Take an array and remove every second element from the array. Always keep the first element and start removing with the next element.\n",
    "\n",
    "#Example:\n",
    "#[\"Keep\", \"Remove\", \"Keep\", \"Remove\", \"Keep\", ...] --> [\"Keep\", \"Keep\", \"Keep\", ...]\n",
    "\n",
    "#None of the arrays will be empty, so you don't have to worry about that!\n",
    "\n",
    "random_array = [\"Keep\", \"Remove\", \"Keep\", \"Remove\", \"Keep\", \"Remove\", \"Keep\", \"Remove\", \"Keep\", \"Remove\", \"Keep\", \"Remove\", \"Keep\", \"Remove\", \"Keep\", \"Remove\"]\n",
    "\n",
    "def new_array(array):\n",
    "    for i in range(len(random_array[i])):\n",
    "        del my_list[::2]\n",
    "    return random_array\n",
    "\n",
    "print(new_array(random_array))"
   ]
  },
  {
   "cell_type": "code",
   "execution_count": null,
   "id": "b472e794",
   "metadata": {},
   "outputs": [],
   "source": []
  },
  {
   "cell_type": "code",
   "execution_count": 41,
   "id": "eaf243c1",
   "metadata": {},
   "outputs": [
    {
     "name": "stdout",
     "output_type": "stream",
     "text": [
      "17\n"
     ]
    }
   ],
   "source": [
    "#Consider an array/list of sheep where some sheep may be missing from their place. We need a function that counts the number of sheep present in the array (true means present).\n",
    "\n",
    "#For example,\n",
    "\n",
    "sheep_array = [True,  True,  True,  False,\n",
    "  True,  True,  True,  True ,\n",
    "  True,  False, True,  False,\n",
    "  True,  False, False, True ,\n",
    "  True,  True,  True,  True ,\n",
    "  False, False, True,  True]\n",
    "\n",
    "def num_sheep(array):\n",
    "    count = 0\n",
    "    for i in array:\n",
    "        if i == True:\n",
    "            count += 1\n",
    "    return count\n",
    "\n",
    "print(num_sheep(sheep_array))\n"
   ]
  }
 ],
 "metadata": {
  "kernelspec": {
   "display_name": "Python 3 (ipykernel)",
   "language": "python",
   "name": "python3"
  },
  "language_info": {
   "codemirror_mode": {
    "name": "ipython",
    "version": 3
   },
   "file_extension": ".py",
   "mimetype": "text/x-python",
   "name": "python",
   "nbconvert_exporter": "python",
   "pygments_lexer": "ipython3",
   "version": "3.9.13"
  }
 },
 "nbformat": 4,
 "nbformat_minor": 5
}
