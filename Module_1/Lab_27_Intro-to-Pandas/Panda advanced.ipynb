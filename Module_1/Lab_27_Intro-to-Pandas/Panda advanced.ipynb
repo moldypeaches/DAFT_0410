{
 "cells": [
  {
   "cell_type": "markdown",
   "id": "1a65b329",
   "metadata": {},
   "source": [
    "# Intro to Pandas"
   ]
  },
  {
   "cell_type": "code",
   "execution_count": null,
   "id": "26749145",
   "metadata": {},
   "outputs": [],
   "source": [
    "#in the pd.describe\n",
    "\n",
    "pd.describe(include='0')"
   ]
  },
  {
   "cell_type": "code",
   "execution_count": 1,
   "id": "95830bc3",
   "metadata": {
    "collapsed": true
   },
   "outputs": [
    {
     "ename": "SyntaxError",
     "evalue": "invalid syntax (172667993.py, line 1)",
     "output_type": "error",
     "traceback": [
      "\u001b[0;36m  File \u001b[0;32m\"/var/folders/_s/5ccjvt852hv4ddn7j5mrvy1m0000gn/T/ipykernel_25690/172667993.py\"\u001b[0;36m, line \u001b[0;32m1\u001b[0m\n\u001b[0;31m    df.rename(columns{'Age':'age'})\u001b[0m\n\u001b[0m                     ^\u001b[0m\n\u001b[0;31mSyntaxError\u001b[0m\u001b[0;31m:\u001b[0m invalid syntax\n"
     ]
    }
   ],
   "source": [
    "df = df.rename(columns{'Age':'age'})\n",
    "#OR\n",
    "df.rename(columns{'Age':'age'}, inplace=True) #Do it in the same place\n",
    "\n",
    "#inplace=True is an optional parameter\n",
    "\n",
    "#Don't do thhis:\n",
    "df.rename(columns{'Age':'age'})\n"
   ]
  },
  {
   "cell_type": "code",
   "execution_count": null,
   "id": "1bed287d",
   "metadata": {},
   "outputs": [],
   "source": [
    "Numerical = continuous(float) discrete (int)\n",
    "Non-numerical= -categorical: ordinal (not just words, they have an order, ex=survey)  nominal (ex: country= value)\n"
   ]
  },
  {
   "cell_type": "code",
   "execution_count": null,
   "id": "82bb8576",
   "metadata": {},
   "outputs": [],
   "source": [
    "#data type\n",
    "df.dtypes"
   ]
  },
  {
   "cell_type": "code",
   "execution_count": null,
   "id": "1133e7a5",
   "metadata": {},
   "outputs": [],
   "source": [
    "#missing values\n",
    "make sure missing value are marked as null in your data set\n",
    "df.isna() #shows missing values \n",
    "df.isnull().sum() = sum of null values, by columns or by row \n",
    "df.isnull().sum().sum()"
   ]
  },
  {
   "cell_type": "code",
   "execution_count": null,
   "id": "90783711",
   "metadata": {},
   "outputs": [],
   "source": [
    "axis = 0 #do it by columns\n",
    "axis = 1 #do it by row"
   ]
  },
  {
   "cell_type": "code",
   "execution_count": null,
   "id": "e3e32009",
   "metadata": {},
   "outputs": [],
   "source": [
    "df['Age'] = df['Age'].fillna('Unknown') #Here, I cannot use 'inplace'"
   ]
  },
  {
   "cell_type": "markdown",
   "id": "e4565520",
   "metadata": {},
   "source": [
    "# Sorting"
   ]
  },
  {
   "cell_type": "code",
   "execution_count": null,
   "id": "a55dba7e",
   "metadata": {},
   "outputs": [],
   "source": [
    "df = pd.read"
   ]
  },
  {
   "cell_type": "code",
   "execution_count": null,
   "id": "cf906d2d",
   "metadata": {},
   "outputs": [],
   "source": [
    "df.sort_index(ascending=False, inplace=True)"
   ]
  },
  {
   "cell_type": "code",
   "execution_count": null,
   "id": "49c00310",
   "metadata": {},
   "outputs": [],
   "source": [
    "df.sort_values(\"Fare\",ascending=False, inplace=True) #because default is asc"
   ]
  },
  {
   "cell_type": "code",
   "execution_count": null,
   "id": "6c71845a",
   "metadata": {},
   "outputs": [],
   "source": [
    "df.sort_values([\"Fare\",\"Age\"],ascending=False, inplace=True) #when fare is eual sort by age "
   ]
  },
  {
   "cell_type": "code",
   "execution_count": null,
   "id": "825d24c3",
   "metadata": {},
   "outputs": [],
   "source": [
    "df['age'].sortvalues()"
   ]
  },
  {
   "cell_type": "markdown",
   "id": "13ccef3d",
   "metadata": {},
   "source": [
    "# Aggregating"
   ]
  },
  {
   "cell_type": "code",
   "execution_count": null,
   "id": "f724ffab",
   "metadata": {},
   "outputs": [],
   "source": [
    "df['Age'].value_counts() #does not include NA"
   ]
  },
  {
   "cell_type": "code",
   "execution_count": 1,
   "id": "0e1650bc",
   "metadata": {
    "collapsed": true
   },
   "outputs": [
    {
     "ename": "NameError",
     "evalue": "name 'df' is not defined",
     "output_type": "error",
     "traceback": [
      "\u001b[0;31m---------------------------------------------------------------------------\u001b[0m",
      "\u001b[0;31mNameError\u001b[0m                                 Traceback (most recent call last)",
      "\u001b[0;32m/var/folders/_s/5ccjvt852hv4ddn7j5mrvy1m0000gn/T/ipykernel_25712/1628810693.py\u001b[0m in \u001b[0;36m<module>\u001b[0;34m\u001b[0m\n\u001b[0;32m----> 1\u001b[0;31m \u001b[0mdf\u001b[0m\u001b[0;34m[\u001b[0m\u001b[0;34m'Age'\u001b[0m\u001b[0;34m]\u001b[0m\u001b[0;34m.\u001b[0m\u001b[0mmax\u001b[0m\u001b[0;34m(\u001b[0m\u001b[0;34m)\u001b[0m \u001b[0;34m-\u001b[0m \u001b[0mdf\u001b[0m\u001b[0;34m[\u001b[0m\u001b[0;34m'Age'\u001b[0m\u001b[0;34m]\u001b[0m\u001b[0;34m.\u001b[0m\u001b[0mmin\u001b[0m\u001b[0;34m(\u001b[0m\u001b[0;34m)\u001b[0m\u001b[0;34m\u001b[0m\u001b[0;34m\u001b[0m\u001b[0m\n\u001b[0m",
      "\u001b[0;31mNameError\u001b[0m: name 'df' is not defined"
     ]
    }
   ],
   "source": [
    "df['Age'].max() - df['Age'].min() #calculate the diff in one line"
   ]
  },
  {
   "cell_type": "code",
   "execution_count": null,
   "id": "b51362cd",
   "metadata": {},
   "outputs": [],
   "source": [
    "aggregating on series\n",
    "df.mean() = avg of all numerical columns"
   ]
  },
  {
   "cell_type": "code",
   "execution_count": 2,
   "id": "ce08c040",
   "metadata": {
    "collapsed": true
   },
   "outputs": [
    {
     "ename": "NameError",
     "evalue": "name 'df' is not defined",
     "output_type": "error",
     "traceback": [
      "\u001b[0;31m---------------------------------------------------------------------------\u001b[0m",
      "\u001b[0;31mNameError\u001b[0m                                 Traceback (most recent call last)",
      "\u001b[0;32m/var/folders/_s/5ccjvt852hv4ddn7j5mrvy1m0000gn/T/ipykernel_25712/3062960492.py\u001b[0m in \u001b[0;36m<module>\u001b[0;34m\u001b[0m\n\u001b[0;32m----> 1\u001b[0;31m \u001b[0mdf\u001b[0m\u001b[0;34m.\u001b[0m\u001b[0mgroupby\u001b[0m\u001b[0;34m[\u001b[0m\u001b[0;34m\"Sex\"\u001b[0m\u001b[0;34m]\u001b[0m\u001b[0;34m\u001b[0m\u001b[0;34m\u001b[0m\u001b[0m\n\u001b[0m",
      "\u001b[0;31mNameError\u001b[0m: name 'df' is not defined"
     ]
    }
   ],
   "source": [
    "df.groupby('sex')[\"fare\",'survived'].mean() #This is to do it for only one column "
   ]
  },
  {
   "cell_type": "code",
   "execution_count": null,
   "id": "32a67f7e",
   "metadata": {},
   "outputs": [],
   "source": [
    "df.groupby(\"Sex\").agg('Age': 'mean', \"Survived\": \"sum\")"
   ]
  },
  {
   "cell_type": "code",
   "execution_count": null,
   "id": "ffbe793e",
   "metadata": {},
   "outputs": [],
   "source": [
    "df.[\"Age\"].nunique()"
   ]
  },
  {
   "cell_type": "code",
   "execution_count": null,
   "id": "6b060a1f",
   "metadata": {},
   "outputs": [],
   "source": [
    "df.groupby(\"Sex\")[\"Age\"].nunique()"
   ]
  },
  {
   "cell_type": "markdown",
   "id": "1f462975",
   "metadata": {},
   "source": [
    "# Indexing"
   ]
  },
  {
   "cell_type": "code",
   "execution_count": null,
   "id": "00d33565",
   "metadata": {},
   "outputs": [],
   "source": [
    "df[['Age']]"
   ]
  },
  {
   "cell_type": "code",
   "execution_count": null,
   "id": "4e95a4e2",
   "metadata": {},
   "outputs": [],
   "source": [
    "df['Age']"
   ]
  },
  {
   "cell_type": "code",
   "execution_count": null,
   "id": "d132efaf",
   "metadata": {},
   "outputs": [],
   "source": [
    "df['Age'] <= 20"
   ]
  },
  {
   "cell_type": "code",
   "execution_count": null,
   "id": "6bd38dbf",
   "metadata": {},
   "outputs": [],
   "source": [
    "df['Age'] == 'female'"
   ]
  },
  {
   "cell_type": "code",
   "execution_count": null,
   "id": "01b57594",
   "metadata": {},
   "outputs": [],
   "source": [
    "#and character = §\n",
    "#or character = barre au milieu"
   ]
  },
  {
   "cell_type": "code",
   "execution_count": null,
   "id": "e3b5dd51",
   "metadata": {},
   "outputs": [],
   "source": [
    "(df['Age'] >= 20) § (df['Age'] <= 20) #PLEASE ALWAYS USE BRACKETS"
   ]
  },
  {
   "cell_type": "code",
   "execution_count": null,
   "id": "ad31611a",
   "metadata": {},
   "outputs": [],
   "source": [
    "((df['Age'] >= 20) § (df['Age'] <= 20)).sum()"
   ]
  },
  {
   "cell_type": "code",
   "execution_count": null,
   "id": "1e684a2c",
   "metadata": {},
   "outputs": [],
   "source": [
    "(df['Pclass'].isin(2,3)) #See if categories are the same"
   ]
  },
  {
   "cell_type": "code",
   "execution_count": null,
   "id": "fef18c6d",
   "metadata": {},
   "outputs": [],
   "source": [
    "#~ = notin"
   ]
  },
  {
   "cell_type": "code",
   "execution_count": null,
   "id": "fa2c2413",
   "metadata": {},
   "outputs": [],
   "source": [
    "~(df['Pclass'].isin(2,3))"
   ]
  },
  {
   "cell_type": "code",
   "execution_count": null,
   "id": "92b268ab",
   "metadata": {},
   "outputs": [],
   "source": [
    "df_filtered = df[(df['Age'] >= 20) § (df['Age'] <= 20)]"
   ]
  },
  {
   "cell_type": "code",
   "execution_count": null,
   "id": "396d83a1",
   "metadata": {},
   "outputs": [],
   "source": [
    "#Add a new column"
   ]
  },
  {
   "cell_type": "code",
   "execution_count": null,
   "id": "7e2692fd",
   "metadata": {},
   "outputs": [],
   "source": [
    "mask = (df['Age'] >= 20) § (df['Age'] <= 20)\n",
    "mask1=(df['Age'] >= 20)\n",
    "mask2=(df['Age'] <= 20)\n",
    "df.loc[mask1 & mask2,'Name']\n",
    "df.loc[mask,['Name']['age']]\n",
    "df.loc[(df['Age'] >= 20) § (df['Age'] <= 20),['Name']['age']] #To select rows + columns"
   ]
  },
  {
   "cell_type": "code",
   "execution_count": null,
   "id": "517f7726",
   "metadata": {},
   "outputs": [],
   "source": [
    "df.loc[(df['Age'] >= 20) § (df['Age'] <= 20),['Name']['age']] = \"Anonymous between 20 and 30\""
   ]
  },
  {
   "cell_type": "code",
   "execution_count": null,
   "id": "16ba0b22",
   "metadata": {},
   "outputs": [],
   "source": [
    "df.loc[(df['Age'] >= 20) § (df['Age'] <= 20),\"Agerange\"]= \"between 20 and 30\""
   ]
  },
  {
   "cell_type": "code",
   "execution_count": null,
   "id": "d35d12fc",
   "metadata": {},
   "outputs": [],
   "source": [
    "#to drop a column \n",
    "df.drop(columns=['Name Original'], inplace=True)"
   ]
  },
  {
   "cell_type": "markdown",
   "id": "7a7394ca",
   "metadata": {},
   "source": [
    "## INDEX"
   ]
  },
  {
   "cell_type": "code",
   "execution_count": null,
   "id": "d78c82f4",
   "metadata": {},
   "outputs": [],
   "source": [
    "df.set_index(\"Name\")"
   ]
  },
  {
   "cell_type": "code",
   "execution_count": null,
   "id": "9095ce5b",
   "metadata": {},
   "outputs": [],
   "source": [
    "df.index"
   ]
  },
  {
   "cell_type": "code",
   "execution_count": null,
   "id": "583da0f2",
   "metadata": {},
   "outputs": [],
   "source": [
    "iloc #selecting a certain item(6) = list indexing in Pyth"
   ]
  },
  {
   "cell_type": "code",
   "execution_count": null,
   "id": "6629b57f",
   "metadata": {},
   "outputs": [],
   "source": [
    "loc # Selecting a specific columns "
   ]
  },
  {
   "cell_type": "code",
   "execution_count": null,
   "id": "1f9bd84a",
   "metadata": {},
   "outputs": [],
   "source": [
    "df.iloc[3:6, 5] #row, column"
   ]
  },
  {
   "cell_type": "markdown",
   "id": "ce6715a9",
   "metadata": {},
   "source": [
    "## String functions"
   ]
  },
  {
   "cell_type": "code",
   "execution_count": null,
   "id": "126a7f2a",
   "metadata": {},
   "outputs": [],
   "source": [
    "#don't use for loops in pandas\n"
   ]
  },
  {
   "cell_type": "code",
   "execution_count": null,
   "id": "ee9873e8",
   "metadata": {},
   "outputs": [],
   "source": [
    "#change index to a column\n",
    "df.reset_index(inplace=True)"
   ]
  },
  {
   "cell_type": "code",
   "execution_count": null,
   "id": "d6f732b3",
   "metadata": {},
   "outputs": [],
   "source": [
    "#select a column\n",
    "df.Name"
   ]
  },
  {
   "cell_type": "code",
   "execution_count": null,
   "id": "22e467bb",
   "metadata": {},
   "outputs": [],
   "source": [
    "#'str' contains all string functions \n",
    "#if you don't index it, it will create a list \n",
    "df['Name'].str.split(',').str[0]"
   ]
  },
  {
   "cell_type": "code",
   "execution_count": null,
   "id": "a198e4ca",
   "metadata": {},
   "outputs": [],
   "source": [
    "df['Name'].str.extract('(.*),(.*)')\n",
    "                       #'.' means any chraracter, '*' means repeat the former symbol"
   ]
  },
  {
   "cell_type": "code",
   "execution_count": null,
   "id": "910d6e50",
   "metadata": {},
   "outputs": [],
   "source": [
    "df['Name'].str.extract('(.*),(.*)').rename(columns={0:\"Last Name, 1:'First Name'})"
   ]
  },
  {
   "cell_type": "code",
   "execution_count": null,
   "id": "d6a9ba1b",
   "metadata": {},
   "outputs": [],
   "source": [
    "df[[\"Last Name,'First Name']] = df['Name'].str.extract('(.*),(.*)').rename(columns={0:\"Last Name, 1:'First Name'})"
   ]
  },
  {
   "cell_type": "code",
   "execution_count": null,
   "id": "29c4ab96",
   "metadata": {},
   "outputs": [],
   "source": [
    "### two sets of brackets is to put them into a columns and not series '[[ ]]'"
   ]
  },
  {
   "cell_type": "markdown",
   "id": "829f0d53",
   "metadata": {},
   "source": [
    "# Joining dataframes"
   ]
  },
  {
   "cell_type": "code",
   "execution_count": null,
   "id": "c935b206",
   "metadata": {},
   "outputs": [],
   "source": [
    "#merge joins on column names"
   ]
  },
  {
   "cell_type": "code",
   "execution_count": null,
   "id": "dd374d20",
   "metadata": {},
   "outputs": [],
   "source": [
    "df[\"Sex\"]"
   ]
  },
  {
   "cell_type": "code",
   "execution_count": null,
   "id": "fd655469",
   "metadata": {},
   "outputs": [],
   "source": [
    "df.merge(df_proba, left_on='Sex', right_on='Sex, suffixes')#like an inner join"
   ]
  },
  {
   "cell_type": "code",
   "execution_count": null,
   "id": "117e274b",
   "metadata": {},
   "outputs": [],
   "source": [
    "left join = select the ones on the left and add it to everything on the right "
   ]
  },
  {
   "cell_type": "code",
   "execution_count": null,
   "id": "1babc95b",
   "metadata": {},
   "outputs": [],
   "source": [
    "right join = "
   ]
  },
  {
   "cell_type": "markdown",
   "id": "1bf026e1",
   "metadata": {},
   "source": [
    "# Concatenate"
   ]
  },
  {
   "cell_type": "code",
   "execution_count": null,
   "id": "0716c348",
   "metadata": {},
   "outputs": [],
   "source": [
    "concatenate = union all"
   ]
  },
  {
   "cell_type": "code",
   "execution_count": null,
   "id": "84346e11",
   "metadata": {},
   "outputs": [],
   "source": [
    "df[df.Age <=20]"
   ]
  },
  {
   "cell_type": "code",
   "execution_count": null,
   "id": "d0ee6540",
   "metadata": {},
   "outputs": [],
   "source": []
  },
  {
   "cell_type": "markdown",
   "id": "6cce5144",
   "metadata": {},
   "source": [
    "# Get dummies"
   ]
  },
  {
   "cell_type": "code",
   "execution_count": null,
   "id": "89ab6532",
   "metadata": {},
   "outputs": [],
   "source": [
    "df[\"PClass\"] = pd.get_dummies"
   ]
  },
  {
   "cell_type": "code",
   "execution_count": null,
   "id": "d53daf48",
   "metadata": {},
   "outputs": [],
   "source": []
  },
  {
   "cell_type": "code",
   "execution_count": null,
   "id": "e2b12d5b",
   "metadata": {},
   "outputs": [],
   "source": []
  },
  {
   "cell_type": "markdown",
   "id": "688213d9",
   "metadata": {},
   "source": [
    "# Pivot and unpivot"
   ]
  },
  {
   "cell_type": "code",
   "execution_count": null,
   "id": "af72deda",
   "metadata": {},
   "outputs": [],
   "source": [
    "df.pivot_table(columns=['Sex'])"
   ]
  },
  {
   "cell_type": "code",
   "execution_count": null,
   "id": "0e512200",
   "metadata": {},
   "outputs": [],
   "source": [
    "df.m"
   ]
  },
  {
   "cell_type": "code",
   "execution_count": null,
   "id": "cc88345f",
   "metadata": {},
   "outputs": [],
   "source": [
    "df.dropna() = drops the lines where there is at least one missing value"
   ]
  },
  {
   "cell_type": "code",
   "execution_count": null,
   "id": "c1fc61d2",
   "metadata": {},
   "outputs": [],
   "source": []
  }
 ],
 "metadata": {
  "kernelspec": {
   "display_name": "Python 3 (ipykernel)",
   "language": "python",
   "name": "python3"
  },
  "language_info": {
   "codemirror_mode": {
    "name": "ipython",
    "version": 3
   },
   "file_extension": ".py",
   "mimetype": "text/x-python",
   "name": "python",
   "nbconvert_exporter": "python",
   "pygments_lexer": "ipython3",
   "version": "3.9.13"
  }
 },
 "nbformat": 4,
 "nbformat_minor": 5
}
