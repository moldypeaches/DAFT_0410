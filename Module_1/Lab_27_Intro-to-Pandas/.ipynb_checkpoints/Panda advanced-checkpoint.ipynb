{
 "cells": [
  {
   "cell_type": "markdown",
   "id": "ffabfbb8",
   "metadata": {},
   "source": [
    "# Intro to Pandas"
   ]
  },
  {
   "cell_type": "code",
   "execution_count": null,
   "id": "a4f8b2ed",
   "metadata": {},
   "outputs": [],
   "source": [
    "#in the pd.describe\n",
    "\n",
    "pd.describe(include='0')"
   ]
  },
  {
   "cell_type": "code",
   "execution_count": 1,
   "id": "e24da161",
   "metadata": {
    "collapsed": true
   },
   "outputs": [
    {
     "ename": "SyntaxError",
     "evalue": "invalid syntax (172667993.py, line 1)",
     "output_type": "error",
     "traceback": [
      "\u001b[0;36m  File \u001b[0;32m\"/var/folders/_s/5ccjvt852hv4ddn7j5mrvy1m0000gn/T/ipykernel_25690/172667993.py\"\u001b[0;36m, line \u001b[0;32m1\u001b[0m\n\u001b[0;31m    df.rename(columns{'Age':'age'})\u001b[0m\n\u001b[0m                     ^\u001b[0m\n\u001b[0;31mSyntaxError\u001b[0m\u001b[0;31m:\u001b[0m invalid syntax\n"
     ]
    }
   ],
   "source": [
    "df = df.rename(columns{'Age':'age'})\n",
    "#OR\n",
    "df.rename(columns{'Age':'age'}, inplace=True) #Do it in the same place\n",
    "\n",
    "#inplace=True is an optional parameter\n",
    "\n",
    "#Don't do thhis:\n",
    "df.rename(columns{'Age':'age'})\n"
   ]
  },
  {
   "cell_type": "code",
   "execution_count": null,
   "id": "5122290d",
   "metadata": {},
   "outputs": [],
   "source": [
    "Numerical = continuous(float) discrete (int)\n",
    "Non-numerical= -categorical: ordinal (not just words, they have an order, ex=survey)  nominal (ex: country= value)\n"
   ]
  },
  {
   "cell_type": "code",
   "execution_count": null,
   "id": "384c5fde",
   "metadata": {},
   "outputs": [],
   "source": [
    "#data type\n",
    "df.dtypes"
   ]
  },
  {
   "cell_type": "code",
   "execution_count": null,
   "id": "087ccc4a",
   "metadata": {},
   "outputs": [],
   "source": [
    "#missing values\n",
    "make sure missing value are marked as null in your data set\n",
    "df.isna() #shows missing values \n",
    "df.isnull().sum() = sum of null values, by columns or by row \n",
    "df.isnull().sum().sum()"
   ]
  },
  {
   "cell_type": "code",
   "execution_count": null,
   "id": "5a568412",
   "metadata": {},
   "outputs": [],
   "source": [
    "axis = 0 #do it by columns\n",
    "axis = 1 #do it by row"
   ]
  },
  {
   "cell_type": "code",
   "execution_count": null,
   "id": "7af0d85d",
   "metadata": {},
   "outputs": [],
   "source": [
    "df['Age'] = df['Age'].fillna('Unknown') #Here, I cannot use 'inplace'"
   ]
  },
  {
   "cell_type": "markdown",
   "id": "de8cdd29",
   "metadata": {},
   "source": [
    "# Sorting"
   ]
  },
  {
   "cell_type": "code",
   "execution_count": null,
   "id": "75734bf0",
   "metadata": {},
   "outputs": [],
   "source": [
    "df = pd.read"
   ]
  },
  {
   "cell_type": "code",
   "execution_count": null,
   "id": "29491019",
   "metadata": {},
   "outputs": [],
   "source": [
    "df.sort_index(ascending=False, inplace=True)"
   ]
  },
  {
   "cell_type": "code",
   "execution_count": null,
   "id": "396e479c",
   "metadata": {},
   "outputs": [],
   "source": [
    "df.sort_values(\"Fare\",ascending=False, inplace=True) #because default is asc"
   ]
  },
  {
   "cell_type": "code",
   "execution_count": null,
   "id": "c39930d1",
   "metadata": {},
   "outputs": [],
   "source": [
    "df.sort_values([\"Fare\",\"Age\"],ascending=False, inplace=True) #when fare is eual sort by age "
   ]
  },
  {
   "cell_type": "code",
   "execution_count": null,
   "id": "0b1b1d48",
   "metadata": {},
   "outputs": [],
   "source": [
    "df['age'].sortvalues()"
   ]
  },
  {
   "cell_type": "markdown",
   "id": "51b88370",
   "metadata": {},
   "source": [
    "# Aggregating"
   ]
  },
  {
   "cell_type": "code",
   "execution_count": null,
   "id": "2ebdbca9",
   "metadata": {},
   "outputs": [],
   "source": [
    "df['Age'].value_counts() #does not include NA"
   ]
  },
  {
   "cell_type": "code",
   "execution_count": 1,
   "id": "40b53967",
   "metadata": {
    "collapsed": true
   },
   "outputs": [
    {
     "ename": "NameError",
     "evalue": "name 'df' is not defined",
     "output_type": "error",
     "traceback": [
      "\u001b[0;31m---------------------------------------------------------------------------\u001b[0m",
      "\u001b[0;31mNameError\u001b[0m                                 Traceback (most recent call last)",
      "\u001b[0;32m/var/folders/_s/5ccjvt852hv4ddn7j5mrvy1m0000gn/T/ipykernel_25712/1628810693.py\u001b[0m in \u001b[0;36m<module>\u001b[0;34m\u001b[0m\n\u001b[0;32m----> 1\u001b[0;31m \u001b[0mdf\u001b[0m\u001b[0;34m[\u001b[0m\u001b[0;34m'Age'\u001b[0m\u001b[0;34m]\u001b[0m\u001b[0;34m.\u001b[0m\u001b[0mmax\u001b[0m\u001b[0;34m(\u001b[0m\u001b[0;34m)\u001b[0m \u001b[0;34m-\u001b[0m \u001b[0mdf\u001b[0m\u001b[0;34m[\u001b[0m\u001b[0;34m'Age'\u001b[0m\u001b[0;34m]\u001b[0m\u001b[0;34m.\u001b[0m\u001b[0mmin\u001b[0m\u001b[0;34m(\u001b[0m\u001b[0;34m)\u001b[0m\u001b[0;34m\u001b[0m\u001b[0;34m\u001b[0m\u001b[0m\n\u001b[0m",
      "\u001b[0;31mNameError\u001b[0m: name 'df' is not defined"
     ]
    }
   ],
   "source": [
    "df['Age'].max() - df['Age'].min() #calculate the diff in one line"
   ]
  },
  {
   "cell_type": "code",
   "execution_count": null,
   "id": "ab5a5a8d",
   "metadata": {},
   "outputs": [],
   "source": [
    "aggregating on series\n",
    "df.mean() = avg of all numerical columns"
   ]
  },
  {
   "cell_type": "code",
   "execution_count": 2,
   "id": "25973607",
   "metadata": {
    "collapsed": true
   },
   "outputs": [
    {
     "ename": "NameError",
     "evalue": "name 'df' is not defined",
     "output_type": "error",
     "traceback": [
      "\u001b[0;31m---------------------------------------------------------------------------\u001b[0m",
      "\u001b[0;31mNameError\u001b[0m                                 Traceback (most recent call last)",
      "\u001b[0;32m/var/folders/_s/5ccjvt852hv4ddn7j5mrvy1m0000gn/T/ipykernel_25712/3062960492.py\u001b[0m in \u001b[0;36m<module>\u001b[0;34m\u001b[0m\n\u001b[0;32m----> 1\u001b[0;31m \u001b[0mdf\u001b[0m\u001b[0;34m.\u001b[0m\u001b[0mgroupby\u001b[0m\u001b[0;34m[\u001b[0m\u001b[0;34m\"Sex\"\u001b[0m\u001b[0;34m]\u001b[0m\u001b[0;34m\u001b[0m\u001b[0;34m\u001b[0m\u001b[0m\n\u001b[0m",
      "\u001b[0;31mNameError\u001b[0m: name 'df' is not defined"
     ]
    }
   ],
   "source": [
    "df.groupby('sex')[\"fare\",'survived'].mean() #This is to do it for only one column "
   ]
  },
  {
   "cell_type": "code",
   "execution_count": null,
   "id": "9dd36d56",
   "metadata": {},
   "outputs": [],
   "source": [
    "df.groupby(\"Sex\").agg('Age': 'mean', \"Survived\": \"sum\")"
   ]
  },
  {
   "cell_type": "code",
   "execution_count": null,
   "id": "fe651dfa",
   "metadata": {},
   "outputs": [],
   "source": [
    "df.[\"Age\"].nunique()"
   ]
  },
  {
   "cell_type": "code",
   "execution_count": null,
   "id": "567cf7d8",
   "metadata": {},
   "outputs": [],
   "source": [
    "df.groupby(\"Sex\")[\"Age\"].nunique()"
   ]
  }
 ],
 "metadata": {
  "kernelspec": {
   "display_name": "Python 3 (ipykernel)",
   "language": "python",
   "name": "python3"
  },
  "language_info": {
   "codemirror_mode": {
    "name": "ipython",
    "version": 3
   },
   "file_extension": ".py",
   "mimetype": "text/x-python",
   "name": "python",
   "nbconvert_exporter": "python",
   "pygments_lexer": "ipython3",
   "version": "3.9.13"
  }
 },
 "nbformat": 4,
 "nbformat_minor": 5
}
